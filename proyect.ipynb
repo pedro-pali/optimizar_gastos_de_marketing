{
 "cells": [
  {
   "cell_type": "markdown",
   "id": "0a5dc7e8",
   "metadata": {},
   "source": [
    "# Descripción del proyecto\n",
    "Lo has hecho de maravilla en el curso de TripleTen y te han ofrecido hacer prácticas en el departamento de analítica de Showz, una empresa de venta de entradas de eventos. Tu primera tarea es ayudar a optimizar los gastos de marketing. \n",
    "\n",
    "Cuentas con:\n",
    "\n",
    "- registros del servidor con datos sobre las visitas a Showz desde enero de 2017 hasta diciembre de 2018;\n",
    "- un archivo con los pedidos en este periodo;\n",
    "- estadísticas de gastos de marketing.\n",
    "\n",
    "Lo que vas a investigar: \n",
    "\n",
    "- cómo los clientes usan el servicio;\n",
    "- cuándo empiezan a comprar;\n",
    "- cuánto dinero aporta cada cliente a la compañía;\n",
    "- cuándo los ingresos cubren el costo de adquisición de los clientes."
   ]
  },
  {
   "cell_type": "markdown",
   "id": "42deb3e9",
   "metadata": {},
   "source": [
    "## Paso 1. Acceda los datos y prepáralos para el análisis\n",
    "Almacena los datos de visitas, pedidos y gastos en variables. Optimiza los datos para el análisis. Asegúrate de que cada columna contenga el tipo de datos correcto. Rutas de archivos:\n",
    "\n",
    "- /datasets/visits_log_us.csv (registros del servidor con datos sobre las visitas al sitio web)\n",
    "- /datasets/orders_log_us.csv (datos sobre pedidos)\n",
    "- /datasets/costs_us.csv (datos sobre gastos de marketing)\n"
   ]
  },
  {
   "cell_type": "code",
   "execution_count": 28,
   "id": "11ff33ad",
   "metadata": {},
   "outputs": [],
   "source": [
    "# Importamos las librerias que podamos ocupar y las bases de datos.\n",
    "\n",
    "import pandas as pd\n",
    "import numpy as np\n",
    "import seaborn as sns \n",
    "from matplotlib import pyplot as plt\n",
    "\n",
    "visits = pd.read_csv('archives/visits_log_us.csv')\n",
    "orders = pd.read_csv('archives/orders_log_us.csv')\n",
    "costs_mkt = pd.read_csv('archives/costs_us.csv')"
   ]
  },
  {
   "cell_type": "markdown",
   "id": "080288b9",
   "metadata": {},
   "source": [
    "Vamos a explorar el archivo vosots_log_us y revisar sus tipos de datos para el DF visit."
   ]
  },
  {
   "cell_type": "code",
   "execution_count": 29,
   "id": "8cc96922",
   "metadata": {},
   "outputs": [
    {
     "name": "stdout",
     "output_type": "stream",
     "text": [
      "<class 'pandas.core.frame.DataFrame'>\n",
      "RangeIndex: 359400 entries, 0 to 359399\n",
      "Data columns (total 5 columns):\n",
      " #   Column     Non-Null Count   Dtype \n",
      "---  ------     --------------   ----- \n",
      " 0   Device     359400 non-null  object\n",
      " 1   End Ts     359400 non-null  object\n",
      " 2   Source Id  359400 non-null  int64 \n",
      " 3   Start Ts   359400 non-null  object\n",
      " 4   Uid        359400 non-null  uint64\n",
      "dtypes: int64(1), object(3), uint64(1)\n",
      "memory usage: 13.7+ MB\n"
     ]
    }
   ],
   "source": [
    "visits.info()"
   ]
  },
  {
   "cell_type": "markdown",
   "id": "c52feb10",
   "metadata": {},
   "source": [
    "- No tenemos valores faltantes, repetidos muy probablemte si pero esos los quitamos especificamente en los análisis posteriores,\n",
    "- convertimos los nombres de las columnas a snake_case en minúsculas y\n",
    "- cambiamos el Dtype de las fechas a .datetime ya que las necesitaremos para los análisis más adelante."
   ]
  },
  {
   "cell_type": "code",
   "execution_count": 30,
   "id": "45ed91c6",
   "metadata": {},
   "outputs": [],
   "source": [
    "visits.columns = visits.columns.str.lower().str.replace(' ', '_')"
   ]
  },
  {
   "cell_type": "code",
   "execution_count": 31,
   "id": "24ffaab8",
   "metadata": {},
   "outputs": [
    {
     "name": "stdout",
     "output_type": "stream",
     "text": [
      "<class 'pandas.core.frame.DataFrame'>\n",
      "RangeIndex: 359400 entries, 0 to 359399\n",
      "Data columns (total 5 columns):\n",
      " #   Column     Non-Null Count   Dtype         \n",
      "---  ------     --------------   -----         \n",
      " 0   device     359400 non-null  object        \n",
      " 1   end_ts     359400 non-null  datetime64[ns]\n",
      " 2   source_id  359400 non-null  int64         \n",
      " 3   start_ts   359400 non-null  datetime64[ns]\n",
      " 4   uid        359400 non-null  uint64        \n",
      "dtypes: datetime64[ns](2), int64(1), object(1), uint64(1)\n",
      "memory usage: 13.7+ MB\n"
     ]
    }
   ],
   "source": [
    "visits['start_ts'] = pd.to_datetime(visits['start_ts'], format= \"%Y-%m-%d %H:%M:%S\")\n",
    "visits['end_ts'] = pd.to_datetime(visits['end_ts'], format= \"%Y-%m-%d %H:%M:%S\")\n",
    "\n",
    "visits.info()"
   ]
  },
  {
   "cell_type": "markdown",
   "id": "6003fcd4",
   "metadata": {},
   "source": [
    "Ahora vamos a explorar y analizar el archivo order_log_us del DF orders"
   ]
  },
  {
   "cell_type": "code",
   "execution_count": 32,
   "id": "c6a29080",
   "metadata": {},
   "outputs": [
    {
     "name": "stdout",
     "output_type": "stream",
     "text": [
      "<class 'pandas.core.frame.DataFrame'>\n",
      "RangeIndex: 50415 entries, 0 to 50414\n",
      "Data columns (total 3 columns):\n",
      " #   Column   Non-Null Count  Dtype  \n",
      "---  ------   --------------  -----  \n",
      " 0   Buy Ts   50415 non-null  object \n",
      " 1   Revenue  50415 non-null  float64\n",
      " 2   Uid      50415 non-null  uint64 \n",
      "dtypes: float64(1), object(1), uint64(1)\n",
      "memory usage: 1.2+ MB\n"
     ]
    }
   ],
   "source": [
    "orders.info()"
   ]
  },
  {
   "cell_type": "markdown",
   "id": "bf9ffbe0",
   "metadata": {},
   "source": [
    "- No tenemos valores faltantes, repetidos muy probablemte si pero esos los quitamos especificamente en los análisis posteriores,\n",
    "- convertimos los nombres de las columnas a snake_case en minúsculas y\n",
    "- cambiamos el Dtype de las fechas a .datetime ya que las necesitaremos para los análisis más adelante."
   ]
  },
  {
   "cell_type": "code",
   "execution_count": 33,
   "id": "55c639fb",
   "metadata": {},
   "outputs": [],
   "source": [
    "orders.columns = orders.columns.str.lower().str.replace(' ', '_')"
   ]
  },
  {
   "cell_type": "code",
   "execution_count": 34,
   "id": "efee57d7",
   "metadata": {},
   "outputs": [
    {
     "name": "stdout",
     "output_type": "stream",
     "text": [
      "<class 'pandas.core.frame.DataFrame'>\n",
      "RangeIndex: 50415 entries, 0 to 50414\n",
      "Data columns (total 3 columns):\n",
      " #   Column   Non-Null Count  Dtype         \n",
      "---  ------   --------------  -----         \n",
      " 0   buy_ts   50415 non-null  datetime64[ns]\n",
      " 1   revenue  50415 non-null  float64       \n",
      " 2   uid      50415 non-null  uint64        \n",
      "dtypes: datetime64[ns](1), float64(1), uint64(1)\n",
      "memory usage: 1.2 MB\n"
     ]
    }
   ],
   "source": [
    "orders['buy_ts'] = pd.to_datetime(orders['buy_ts'])\n",
    "\n",
    "orders.info()"
   ]
  },
  {
   "cell_type": "markdown",
   "id": "e9c5fa85",
   "metadata": {},
   "source": [
    "Por ultimo, analizaremos el archivo costs_us.csv del DF costs_mkt."
   ]
  },
  {
   "cell_type": "code",
   "execution_count": 35,
   "id": "6bf05c2b",
   "metadata": {},
   "outputs": [
    {
     "name": "stdout",
     "output_type": "stream",
     "text": [
      "<class 'pandas.core.frame.DataFrame'>\n",
      "RangeIndex: 2542 entries, 0 to 2541\n",
      "Data columns (total 3 columns):\n",
      " #   Column     Non-Null Count  Dtype  \n",
      "---  ------     --------------  -----  \n",
      " 0   source_id  2542 non-null   int64  \n",
      " 1   dt         2542 non-null   object \n",
      " 2   costs      2542 non-null   float64\n",
      "dtypes: float64(1), int64(1), object(1)\n",
      "memory usage: 59.7+ KB\n"
     ]
    }
   ],
   "source": [
    "costs_mkt.info()"
   ]
  },
  {
   "cell_type": "markdown",
   "id": "1bd3d5a8",
   "metadata": {},
   "source": [
    "- No tenemos valores faltantes, repetidos muy probablemte si pero esos los quitamos especificamente en los análisis posteriores, solo\n",
    "- cambiamos el Dtype de las fechas a .datetime ya que las necesitaremos para los análisis más adelante."
   ]
  },
  {
   "cell_type": "code",
   "execution_count": 36,
   "id": "30fcb71b",
   "metadata": {},
   "outputs": [
    {
     "name": "stdout",
     "output_type": "stream",
     "text": [
      "<class 'pandas.core.frame.DataFrame'>\n",
      "RangeIndex: 2542 entries, 0 to 2541\n",
      "Data columns (total 3 columns):\n",
      " #   Column     Non-Null Count  Dtype         \n",
      "---  ------     --------------  -----         \n",
      " 0   source_id  2542 non-null   int64         \n",
      " 1   dt         2542 non-null   datetime64[ns]\n",
      " 2   costs      2542 non-null   float64       \n",
      "dtypes: datetime64[ns](1), float64(1), int64(1)\n",
      "memory usage: 59.7 KB\n"
     ]
    }
   ],
   "source": [
    "costs_mkt['dt'] = pd.to_datetime(costs_mkt['dt'])\n",
    "\n",
    "costs_mkt.info()"
   ]
  },
  {
   "cell_type": "markdown",
   "id": "dae54671",
   "metadata": {},
   "source": [
    "## Paso 2. Haz informes y calcula métricas "
   ]
  },
  {
   "cell_type": "markdown",
   "id": "ac9f034a",
   "metadata": {},
   "source": [
    "### 1. Visitas:\n",
    "- 1.1 ¿Cuántas personas lo usan cada día, semana y mes?\n",
    "- 1.2 ¿Cuántas sesiones hay por día? (Un usuario puede tener más de una sesión).\n",
    "- 1.3 ¿Cuál es la duración de cada sesión?\n",
    "- 1.4 ¿Con qué frecuencia los usuarios regresan?"
   ]
  },
  {
   "cell_type": "markdown",
   "id": "6b8064ec",
   "metadata": {},
   "source": [
    "Vamos empezar imprimiendo las primeras 5 filas de la tabla para generar una noción con lo que estamos trabajando."
   ]
  },
  {
   "cell_type": "code",
   "execution_count": 37,
   "id": "e60181f2",
   "metadata": {},
   "outputs": [
    {
     "data": {
      "text/html": [
       "<div>\n",
       "<style scoped>\n",
       "    .dataframe tbody tr th:only-of-type {\n",
       "        vertical-align: middle;\n",
       "    }\n",
       "\n",
       "    .dataframe tbody tr th {\n",
       "        vertical-align: top;\n",
       "    }\n",
       "\n",
       "    .dataframe thead th {\n",
       "        text-align: right;\n",
       "    }\n",
       "</style>\n",
       "<table border=\"1\" class=\"dataframe\">\n",
       "  <thead>\n",
       "    <tr style=\"text-align: right;\">\n",
       "      <th></th>\n",
       "      <th>device</th>\n",
       "      <th>end_ts</th>\n",
       "      <th>source_id</th>\n",
       "      <th>start_ts</th>\n",
       "      <th>uid</th>\n",
       "    </tr>\n",
       "  </thead>\n",
       "  <tbody>\n",
       "    <tr>\n",
       "      <th>0</th>\n",
       "      <td>touch</td>\n",
       "      <td>2017-12-20 17:38:00</td>\n",
       "      <td>4</td>\n",
       "      <td>2017-12-20 17:20:00</td>\n",
       "      <td>16879256277535980062</td>\n",
       "    </tr>\n",
       "    <tr>\n",
       "      <th>1</th>\n",
       "      <td>desktop</td>\n",
       "      <td>2018-02-19 17:21:00</td>\n",
       "      <td>2</td>\n",
       "      <td>2018-02-19 16:53:00</td>\n",
       "      <td>104060357244891740</td>\n",
       "    </tr>\n",
       "    <tr>\n",
       "      <th>2</th>\n",
       "      <td>touch</td>\n",
       "      <td>2017-07-01 01:54:00</td>\n",
       "      <td>5</td>\n",
       "      <td>2017-07-01 01:54:00</td>\n",
       "      <td>7459035603376831527</td>\n",
       "    </tr>\n",
       "    <tr>\n",
       "      <th>3</th>\n",
       "      <td>desktop</td>\n",
       "      <td>2018-05-20 11:23:00</td>\n",
       "      <td>9</td>\n",
       "      <td>2018-05-20 10:59:00</td>\n",
       "      <td>16174680259334210214</td>\n",
       "    </tr>\n",
       "    <tr>\n",
       "      <th>4</th>\n",
       "      <td>desktop</td>\n",
       "      <td>2017-12-27 14:06:00</td>\n",
       "      <td>3</td>\n",
       "      <td>2017-12-27 14:06:00</td>\n",
       "      <td>9969694820036681168</td>\n",
       "    </tr>\n",
       "  </tbody>\n",
       "</table>\n",
       "</div>"
      ],
      "text/plain": [
       "    device              end_ts  source_id            start_ts  \\\n",
       "0    touch 2017-12-20 17:38:00          4 2017-12-20 17:20:00   \n",
       "1  desktop 2018-02-19 17:21:00          2 2018-02-19 16:53:00   \n",
       "2    touch 2017-07-01 01:54:00          5 2017-07-01 01:54:00   \n",
       "3  desktop 2018-05-20 11:23:00          9 2018-05-20 10:59:00   \n",
       "4  desktop 2017-12-27 14:06:00          3 2017-12-27 14:06:00   \n",
       "\n",
       "                    uid  \n",
       "0  16879256277535980062  \n",
       "1    104060357244891740  \n",
       "2   7459035603376831527  \n",
       "3  16174680259334210214  \n",
       "4   9969694820036681168  "
      ]
     },
     "execution_count": 37,
     "metadata": {},
     "output_type": "execute_result"
    }
   ],
   "source": [
    "visits.head(5)"
   ]
  },
  {
   "cell_type": "markdown",
   "id": "e0ff7d8f",
   "metadata": {},
   "source": [
    "Crearemos columnas separadas para los valores de año, mes, semana y fecha que utilizaremos para hacer el análisis de las preguntas siguientes"
   ]
  },
  {
   "cell_type": "code",
   "execution_count": 38,
   "id": "5c752221",
   "metadata": {},
   "outputs": [
    {
     "data": {
      "text/html": [
       "<div>\n",
       "<style scoped>\n",
       "    .dataframe tbody tr th:only-of-type {\n",
       "        vertical-align: middle;\n",
       "    }\n",
       "\n",
       "    .dataframe tbody tr th {\n",
       "        vertical-align: top;\n",
       "    }\n",
       "\n",
       "    .dataframe thead th {\n",
       "        text-align: right;\n",
       "    }\n",
       "</style>\n",
       "<table border=\"1\" class=\"dataframe\">\n",
       "  <thead>\n",
       "    <tr style=\"text-align: right;\">\n",
       "      <th></th>\n",
       "      <th>device</th>\n",
       "      <th>end_ts</th>\n",
       "      <th>source_id</th>\n",
       "      <th>start_ts</th>\n",
       "      <th>uid</th>\n",
       "      <th>session_year</th>\n",
       "      <th>session_month</th>\n",
       "      <th>session_week</th>\n",
       "      <th>session_date</th>\n",
       "    </tr>\n",
       "  </thead>\n",
       "  <tbody>\n",
       "    <tr>\n",
       "      <th>0</th>\n",
       "      <td>touch</td>\n",
       "      <td>2017-12-20 17:38:00</td>\n",
       "      <td>4</td>\n",
       "      <td>2017-12-20 17:20:00</td>\n",
       "      <td>16879256277535980062</td>\n",
       "      <td>2017</td>\n",
       "      <td>12</td>\n",
       "      <td>51</td>\n",
       "      <td>2017-12-20</td>\n",
       "    </tr>\n",
       "    <tr>\n",
       "      <th>1</th>\n",
       "      <td>desktop</td>\n",
       "      <td>2018-02-19 17:21:00</td>\n",
       "      <td>2</td>\n",
       "      <td>2018-02-19 16:53:00</td>\n",
       "      <td>104060357244891740</td>\n",
       "      <td>2018</td>\n",
       "      <td>2</td>\n",
       "      <td>8</td>\n",
       "      <td>2018-02-19</td>\n",
       "    </tr>\n",
       "    <tr>\n",
       "      <th>2</th>\n",
       "      <td>touch</td>\n",
       "      <td>2017-07-01 01:54:00</td>\n",
       "      <td>5</td>\n",
       "      <td>2017-07-01 01:54:00</td>\n",
       "      <td>7459035603376831527</td>\n",
       "      <td>2017</td>\n",
       "      <td>7</td>\n",
       "      <td>26</td>\n",
       "      <td>2017-07-01</td>\n",
       "    </tr>\n",
       "    <tr>\n",
       "      <th>3</th>\n",
       "      <td>desktop</td>\n",
       "      <td>2018-05-20 11:23:00</td>\n",
       "      <td>9</td>\n",
       "      <td>2018-05-20 10:59:00</td>\n",
       "      <td>16174680259334210214</td>\n",
       "      <td>2018</td>\n",
       "      <td>5</td>\n",
       "      <td>20</td>\n",
       "      <td>2018-05-20</td>\n",
       "    </tr>\n",
       "    <tr>\n",
       "      <th>4</th>\n",
       "      <td>desktop</td>\n",
       "      <td>2017-12-27 14:06:00</td>\n",
       "      <td>3</td>\n",
       "      <td>2017-12-27 14:06:00</td>\n",
       "      <td>9969694820036681168</td>\n",
       "      <td>2017</td>\n",
       "      <td>12</td>\n",
       "      <td>52</td>\n",
       "      <td>2017-12-27</td>\n",
       "    </tr>\n",
       "  </tbody>\n",
       "</table>\n",
       "</div>"
      ],
      "text/plain": [
       "    device              end_ts  source_id            start_ts  \\\n",
       "0    touch 2017-12-20 17:38:00          4 2017-12-20 17:20:00   \n",
       "1  desktop 2018-02-19 17:21:00          2 2018-02-19 16:53:00   \n",
       "2    touch 2017-07-01 01:54:00          5 2017-07-01 01:54:00   \n",
       "3  desktop 2018-05-20 11:23:00          9 2018-05-20 10:59:00   \n",
       "4  desktop 2017-12-27 14:06:00          3 2017-12-27 14:06:00   \n",
       "\n",
       "                    uid  session_year  session_month  session_week  \\\n",
       "0  16879256277535980062          2017             12            51   \n",
       "1    104060357244891740          2018              2             8   \n",
       "2   7459035603376831527          2017              7            26   \n",
       "3  16174680259334210214          2018              5            20   \n",
       "4   9969694820036681168          2017             12            52   \n",
       "\n",
       "  session_date  \n",
       "0   2017-12-20  \n",
       "1   2018-02-19  \n",
       "2   2017-07-01  \n",
       "3   2018-05-20  \n",
       "4   2017-12-27  "
      ]
     },
     "execution_count": 38,
     "metadata": {},
     "output_type": "execute_result"
    }
   ],
   "source": [
    "# Separación de tipo de datos, para año y semana es necesario utilizar isocalendar().\n",
    "visits['session_year'] = visits['start_ts'].dt.isocalendar().year\n",
    "visits['session_month'] = visits['start_ts'].dt.month\n",
    "visits['session_week'] = visits['start_ts'].dt.isocalendar().week\n",
    "visits['session_date'] = visits['start_ts'].dt.date\n",
    "\n",
    "visits.head(5)"
   ]
  },
  {
   "cell_type": "markdown",
   "id": "eb30fcf8",
   "metadata": {},
   "source": [
    "### 1.1 ¿Cuántas personas lo usan cada día, semana y mes?"
   ]
  },
  {
   "cell_type": "markdown",
   "id": "4ddada82",
   "metadata": {},
   "source": [
    "Utilizaremos las métricas de DAU, WAU y MAU para saber cuántos usuarios lo usan. "
   ]
  },
  {
   "cell_type": "code",
   "execution_count": 39,
   "id": "5edd7229",
   "metadata": {},
   "outputs": [
    {
     "name": "stdout",
     "output_type": "stream",
     "text": [
      "El DAU total es: uid    907\n",
      "dtype: int64\n",
      "El WAU total es: uid    5716\n",
      "dtype: int64\n",
      "El MAU total es: uid    23228\n",
      "dtype: int64\n"
     ]
    }
   ],
   "source": [
    "dau = visits.groupby('session_date').agg({'uid': 'nunique'}).mean().astype('int64')\n",
    "wau = visits.groupby(['session_year', 'session_week']).agg({'uid': 'nunique'}).mean().astype('int64')\n",
    "mau = visits.groupby(['session_year', 'session_month']).agg({'uid': 'nunique'}).mean().astype('int64')\n",
    "\n",
    "print(f\"El DAU total es: {dau}\")\n",
    "print(f\"El WAU total es: {wau}\")\n",
    "print(f\"El MAU total es: {mau}\")"
   ]
  },
  {
   "cell_type": "markdown",
   "id": "3de020cf",
   "metadata": {},
   "source": [
    "### Conclusión:\n",
    "- 907 pesronas en promedio visitan la página por día,\n",
    "- 5,716 personas en promedio visitan la página por semana y\n",
    "- 23,228 personas en promedio por mes. "
   ]
  },
  {
   "cell_type": "markdown",
   "id": "e73160a1",
   "metadata": {},
   "source": [
    "### 1.2 ¿Cuántas sesiones hay por día?"
   ]
  },
  {
   "cell_type": "code",
   "execution_count": 40,
   "id": "e59563bc",
   "metadata": {},
   "outputs": [
    {
     "name": "stdout",
     "output_type": "stream",
     "text": [
      "Sesiones por día: uid    987\n",
      "dtype: int64\n",
      "               uid\n",
      "session_date      \n",
      "2017-06-01     664\n",
      "2017-06-02     658\n",
      "2017-06-03     477\n",
      "2017-06-04     510\n",
      "2017-06-05     893\n",
      "...            ...\n",
      "2018-05-27     672\n",
      "2018-05-28    1156\n",
      "2018-05-29    1035\n",
      "2018-05-30    1410\n",
      "2018-05-31    2256\n",
      "\n",
      "[364 rows x 1 columns]\n"
     ]
    }
   ],
   "source": [
    "sessions_per_day = visits.groupby('session_date').agg({'uid': 'count'}).mean().astype('int64')\n",
    "session_every_day = visits.groupby('session_date').agg({'uid': 'count'}).astype('int64')\n",
    "\n",
    "print(f\"Sesiones por día: {sessions_per_day}\")\n",
    "print(session_every_day)"
   ]
  },
  {
   "cell_type": "markdown",
   "id": "724491bb",
   "metadata": {},
   "source": [
    "### Conclusión:\n",
    "Hay en promedio unas 987 sesiones por día, hay que considerar que los usuarios pueden realizar más de una sesión diaria."
   ]
  },
  {
   "cell_type": "markdown",
   "id": "a19fa078",
   "metadata": {},
   "source": [
    "### 1.3 ¿Cuál es la duración de cada sesión?"
   ]
  },
  {
   "cell_type": "markdown",
   "id": "1646a2ea",
   "metadata": {},
   "source": [
    "Aplicaremos una resta de la columna del tiempo que termina la sessión ('end_ts') menos el tiempo que inicia la sesión. "
   ]
  },
  {
   "cell_type": "code",
   "execution_count": 41,
   "id": "41518d20",
   "metadata": {},
   "outputs": [
    {
     "name": "stdout",
     "output_type": "stream",
     "text": [
      "Duración promedio de usuarios: 0 days 00:10:43.025687256\n",
      "0        0 days 00:18:00\n",
      "1        0 days 00:28:00\n",
      "2        0 days 00:00:00\n",
      "3        0 days 00:24:00\n",
      "4        0 days 00:00:00\n",
      "               ...      \n",
      "359395   0 days 00:00:19\n",
      "359396   0 days 00:00:19\n",
      "359397   0 days 00:00:19\n",
      "359398   0 days 00:00:19\n",
      "359399   0 days 00:00:19\n",
      "Name: duration_session, Length: 359400, dtype: timedelta64[ns]\n"
     ]
    }
   ],
   "source": [
    "visits['duration_session'] = (visits['end_ts'] - visits['start_ts'])\n",
    "\n",
    "\n",
    "duration_mean = visits['duration_session'].mean()\n",
    "\n",
    "print(f\"Duración promedio de usuarios: {duration_mean}\")\n",
    "print(visits['duration_session'])"
   ]
  },
  {
   "cell_type": "markdown",
   "id": "313ee904",
   "metadata": {},
   "source": [
    "### Conclusión:\n",
    "La duración promedio de los usuarios por sesión es de 11 minútos."
   ]
  },
  {
   "cell_type": "markdown",
   "id": "ffbdd94c",
   "metadata": {},
   "source": [
    "### 1.4 ¿Con qué frecuencia los usuarios regresan?"
   ]
  },
  {
   "cell_type": "markdown",
   "id": "df87e015",
   "metadata": {},
   "source": [
    "Utilizaremos el sticky factor para calcular la frecuencia de retorno de los usuarios."
   ]
  },
  {
   "cell_type": "code",
   "execution_count": 44,
   "id": "317f9621",
   "metadata": {},
   "outputs": [
    {
     "name": "stdout",
     "output_type": "stream",
     "text": [
      "El sticky factor mensual es de: uid    3.90477\n",
      "dtype: float64\n",
      "El sticky factor semanal es de: uid    15.86774\n",
      "dtype: float64\n"
     ]
    }
   ],
   "source": [
    "# sticky factor mensual \n",
    "sticky_factor_month = (dau / mau) * 100\n",
    "# sticky factor semanal \n",
    "sticky_factor_week = (dau / wau) * 100\n",
    "\n",
    "print(f\"El sticky factor mensual es de: {sticky_factor_month}\")\n",
    "print(f\"El sticky factor semanal es de: {sticky_factor_week}\")"
   ]
  },
  {
   "cell_type": "markdown",
   "id": "97bccf67",
   "metadata": {},
   "source": [
    "### Conclusión:\n",
    "- La frecuencia con la que regresan los usuarios semanalmente es del 15.8 porciento, y \n",
    "- la frecuencia con que regresan mensualmente es del 3.9 porciento."
   ]
  }
 ],
 "metadata": {
  "kernelspec": {
   "display_name": "base",
   "language": "python",
   "name": "python3"
  },
  "language_info": {
   "codemirror_mode": {
    "name": "ipython",
    "version": 3
   },
   "file_extension": ".py",
   "mimetype": "text/x-python",
   "name": "python",
   "nbconvert_exporter": "python",
   "pygments_lexer": "ipython3",
   "version": "3.13.5"
  }
 },
 "nbformat": 4,
 "nbformat_minor": 5
}
