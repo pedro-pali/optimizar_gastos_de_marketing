{
 "cells": [
  {
   "cell_type": "markdown",
   "id": "0a5dc7e8",
   "metadata": {},
   "source": [
    "# Descripción del proyecto\n",
    "Lo has hecho de maravilla en el curso de TripleTen y te han ofrecido hacer prácticas en el departamento de analítica de Showz, una empresa de venta de entradas de eventos. Tu primera tarea es ayudar a optimizar los gastos de marketing. \n",
    "\n",
    "Cuentas con:\n",
    "\n",
    "- registros del servidor con datos sobre las visitas a Showz desde enero de 2017 hasta diciembre de 2018;\n",
    "- un archivo con los pedidos en este periodo;\n",
    "- estadísticas de gastos de marketing.\n",
    "\n",
    "Lo que vas a investigar: \n",
    "\n",
    "- cómo los clientes usan el servicio;\n",
    "- cuándo empiezan a comprar;\n",
    "- cuánto dinero aporta cada cliente a la compañía;\n",
    "- cuándo los ingresos cubren el costo de adquisición de los clientes."
   ]
  },
  {
   "cell_type": "markdown",
   "id": "42deb3e9",
   "metadata": {},
   "source": [
    "## Paso 1. Acceda los datos y prepáralos para el análisis\n",
    "Almacena los datos de visitas, pedidos y gastos en variables. Optimiza los datos para el análisis. Asegúrate de que cada columna contenga el tipo de datos correcto. Rutas de archivos:\n",
    "\n",
    "- /datasets/visits_log_us.csv (registros del servidor con datos sobre las visitas al sitio web)\n",
    "- /datasets/orders_log_us.csv (datos sobre pedidos)\n",
    "- /datasets/costs_us.csv (datos sobre gastos de marketing)\n"
   ]
  },
  {
   "cell_type": "code",
   "execution_count": 131,
   "id": "11ff33ad",
   "metadata": {},
   "outputs": [],
   "source": [
    "# Importamos las librerias que podamos ocupar y las bases de datos.\n",
    "\n",
    "import pandas as pd\n",
    "import numpy as np\n",
    "import seaborn as sns \n",
    "from matplotlib import pyplot as plt\n",
    "\n",
    "visits = pd.read_csv('archives/visits_log_us.csv')\n",
    "orders = pd.read_csv('archives/orders_log_us.csv')\n",
    "costs_mkt = pd.read_csv('archives/costs_us.csv')"
   ]
  },
  {
   "cell_type": "markdown",
   "id": "080288b9",
   "metadata": {},
   "source": [
    "Vamos a explorar el archivo vosots_log_us y revisar sus tipos de datos para el DF visit."
   ]
  },
  {
   "cell_type": "code",
   "execution_count": 132,
   "id": "8cc96922",
   "metadata": {},
   "outputs": [
    {
     "name": "stdout",
     "output_type": "stream",
     "text": [
      "<class 'pandas.core.frame.DataFrame'>\n",
      "RangeIndex: 359400 entries, 0 to 359399\n",
      "Data columns (total 5 columns):\n",
      " #   Column     Non-Null Count   Dtype \n",
      "---  ------     --------------   ----- \n",
      " 0   Device     359400 non-null  object\n",
      " 1   End Ts     359400 non-null  object\n",
      " 2   Source Id  359400 non-null  int64 \n",
      " 3   Start Ts   359400 non-null  object\n",
      " 4   Uid        359400 non-null  uint64\n",
      "dtypes: int64(1), object(3), uint64(1)\n",
      "memory usage: 13.7+ MB\n"
     ]
    }
   ],
   "source": [
    "visits.info()"
   ]
  },
  {
   "cell_type": "markdown",
   "id": "c52feb10",
   "metadata": {},
   "source": [
    "- No tenemos valores faltantes, repetidos muy probablemte si pero esos los quitamos especificamente en los análisis posteriores,\n",
    "- convertimos los nombres de las columnas a snake_case en minúsculas y\n",
    "- cambiamos el Dtype de las fechas a .datetime ya que las necesitaremos para los análisis más adelante."
   ]
  },
  {
   "cell_type": "code",
   "execution_count": 133,
   "id": "45ed91c6",
   "metadata": {},
   "outputs": [],
   "source": [
    "visits.columns = visits.columns.str.lower().str.replace(' ', '_')"
   ]
  },
  {
   "cell_type": "code",
   "execution_count": 134,
   "id": "24ffaab8",
   "metadata": {},
   "outputs": [
    {
     "name": "stdout",
     "output_type": "stream",
     "text": [
      "<class 'pandas.core.frame.DataFrame'>\n",
      "RangeIndex: 359400 entries, 0 to 359399\n",
      "Data columns (total 5 columns):\n",
      " #   Column     Non-Null Count   Dtype         \n",
      "---  ------     --------------   -----         \n",
      " 0   device     359400 non-null  object        \n",
      " 1   end_ts     359400 non-null  datetime64[ns]\n",
      " 2   source_id  359400 non-null  int64         \n",
      " 3   start_ts   359400 non-null  datetime64[ns]\n",
      " 4   uid        359400 non-null  uint64        \n",
      "dtypes: datetime64[ns](2), int64(1), object(1), uint64(1)\n",
      "memory usage: 13.7+ MB\n"
     ]
    }
   ],
   "source": [
    "visits['start_ts'] = pd.to_datetime(visits['start_ts'], format= \"%Y-%m-%d %H:%M:%S\")\n",
    "visits['end_ts'] = pd.to_datetime(visits['end_ts'], format= \"%Y-%m-%d %H:%M:%S\")\n",
    "\n",
    "visits.info()"
   ]
  },
  {
   "cell_type": "markdown",
   "id": "6003fcd4",
   "metadata": {},
   "source": [
    "Ahora vamos a explorar y analizar el archivo order_log_us del DF orders"
   ]
  },
  {
   "cell_type": "code",
   "execution_count": 135,
   "id": "c6a29080",
   "metadata": {},
   "outputs": [
    {
     "name": "stdout",
     "output_type": "stream",
     "text": [
      "<class 'pandas.core.frame.DataFrame'>\n",
      "RangeIndex: 50415 entries, 0 to 50414\n",
      "Data columns (total 3 columns):\n",
      " #   Column   Non-Null Count  Dtype  \n",
      "---  ------   --------------  -----  \n",
      " 0   Buy Ts   50415 non-null  object \n",
      " 1   Revenue  50415 non-null  float64\n",
      " 2   Uid      50415 non-null  uint64 \n",
      "dtypes: float64(1), object(1), uint64(1)\n",
      "memory usage: 1.2+ MB\n"
     ]
    }
   ],
   "source": [
    "orders.info()"
   ]
  },
  {
   "cell_type": "markdown",
   "id": "bf9ffbe0",
   "metadata": {},
   "source": [
    "- No tenemos valores faltantes, repetidos muy probablemte si pero esos los quitamos especificamente en los análisis posteriores,\n",
    "- convertimos los nombres de las columnas a snake_case en minúsculas y\n",
    "- cambiamos el Dtype de las fechas a .datetime ya que las necesitaremos para los análisis más adelante."
   ]
  },
  {
   "cell_type": "code",
   "execution_count": 136,
   "id": "55c639fb",
   "metadata": {},
   "outputs": [],
   "source": [
    "orders.columns = orders.columns.str.lower().str.replace(' ', '_')"
   ]
  },
  {
   "cell_type": "code",
   "execution_count": 137,
   "id": "efee57d7",
   "metadata": {},
   "outputs": [
    {
     "name": "stdout",
     "output_type": "stream",
     "text": [
      "<class 'pandas.core.frame.DataFrame'>\n",
      "RangeIndex: 50415 entries, 0 to 50414\n",
      "Data columns (total 3 columns):\n",
      " #   Column   Non-Null Count  Dtype         \n",
      "---  ------   --------------  -----         \n",
      " 0   buy_ts   50415 non-null  datetime64[ns]\n",
      " 1   revenue  50415 non-null  float64       \n",
      " 2   uid      50415 non-null  uint64        \n",
      "dtypes: datetime64[ns](1), float64(1), uint64(1)\n",
      "memory usage: 1.2 MB\n"
     ]
    }
   ],
   "source": [
    "orders['buy_ts'] = pd.to_datetime(orders['buy_ts'])\n",
    "\n",
    "orders.info()"
   ]
  },
  {
   "cell_type": "markdown",
   "id": "e9c5fa85",
   "metadata": {},
   "source": [
    "Por ultimo, analizaremos el archivo costs_us.csv del DF costs_mkt."
   ]
  },
  {
   "cell_type": "code",
   "execution_count": 138,
   "id": "6bf05c2b",
   "metadata": {},
   "outputs": [
    {
     "name": "stdout",
     "output_type": "stream",
     "text": [
      "<class 'pandas.core.frame.DataFrame'>\n",
      "RangeIndex: 2542 entries, 0 to 2541\n",
      "Data columns (total 3 columns):\n",
      " #   Column     Non-Null Count  Dtype  \n",
      "---  ------     --------------  -----  \n",
      " 0   source_id  2542 non-null   int64  \n",
      " 1   dt         2542 non-null   object \n",
      " 2   costs      2542 non-null   float64\n",
      "dtypes: float64(1), int64(1), object(1)\n",
      "memory usage: 59.7+ KB\n"
     ]
    }
   ],
   "source": [
    "costs_mkt.info()"
   ]
  },
  {
   "cell_type": "markdown",
   "id": "1bd3d5a8",
   "metadata": {},
   "source": [
    "- No tenemos valores faltantes, repetidos muy probablemte si pero esos los quitamos especificamente en los análisis posteriores, solo\n",
    "- cambiamos el Dtype de las fechas a .datetime ya que las necesitaremos para los análisis más adelante."
   ]
  },
  {
   "cell_type": "code",
   "execution_count": 139,
   "id": "30fcb71b",
   "metadata": {},
   "outputs": [
    {
     "name": "stdout",
     "output_type": "stream",
     "text": [
      "<class 'pandas.core.frame.DataFrame'>\n",
      "RangeIndex: 2542 entries, 0 to 2541\n",
      "Data columns (total 3 columns):\n",
      " #   Column     Non-Null Count  Dtype         \n",
      "---  ------     --------------  -----         \n",
      " 0   source_id  2542 non-null   int64         \n",
      " 1   dt         2542 non-null   datetime64[ns]\n",
      " 2   costs      2542 non-null   float64       \n",
      "dtypes: datetime64[ns](1), float64(1), int64(1)\n",
      "memory usage: 59.7 KB\n"
     ]
    }
   ],
   "source": [
    "costs_mkt['dt'] = pd.to_datetime(costs_mkt['dt'])\n",
    "\n",
    "costs_mkt.info()"
   ]
  },
  {
   "cell_type": "markdown",
   "id": "dae54671",
   "metadata": {},
   "source": [
    "## Paso 2. Haz informes y calcula métricas "
   ]
  },
  {
   "cell_type": "markdown",
   "id": "ac9f034a",
   "metadata": {},
   "source": [
    "### 1. Visitas:\n",
    "- 1.1 ¿Cuántas personas lo usan cada día, semana y mes?\n",
    "- 1.2 ¿Cuántas sesiones hay por día? (Un usuario puede tener más de una sesión).\n",
    "- 1.3 ¿Cuál es la duración de cada sesión?\n",
    "- 1.4 ¿Con qué frecuencia los usuarios regresan?"
   ]
  },
  {
   "cell_type": "markdown",
   "id": "6b8064ec",
   "metadata": {},
   "source": [
    "Vamos empezar imprimiendo las primeras 5 filas de la tabla para generar una noción con lo que estamos trabajando."
   ]
  },
  {
   "cell_type": "code",
   "execution_count": 140,
   "id": "e60181f2",
   "metadata": {},
   "outputs": [
    {
     "data": {
      "text/html": [
       "<div>\n",
       "<style scoped>\n",
       "    .dataframe tbody tr th:only-of-type {\n",
       "        vertical-align: middle;\n",
       "    }\n",
       "\n",
       "    .dataframe tbody tr th {\n",
       "        vertical-align: top;\n",
       "    }\n",
       "\n",
       "    .dataframe thead th {\n",
       "        text-align: right;\n",
       "    }\n",
       "</style>\n",
       "<table border=\"1\" class=\"dataframe\">\n",
       "  <thead>\n",
       "    <tr style=\"text-align: right;\">\n",
       "      <th></th>\n",
       "      <th>device</th>\n",
       "      <th>end_ts</th>\n",
       "      <th>source_id</th>\n",
       "      <th>start_ts</th>\n",
       "      <th>uid</th>\n",
       "    </tr>\n",
       "  </thead>\n",
       "  <tbody>\n",
       "    <tr>\n",
       "      <th>0</th>\n",
       "      <td>touch</td>\n",
       "      <td>2017-12-20 17:38:00</td>\n",
       "      <td>4</td>\n",
       "      <td>2017-12-20 17:20:00</td>\n",
       "      <td>16879256277535980062</td>\n",
       "    </tr>\n",
       "    <tr>\n",
       "      <th>1</th>\n",
       "      <td>desktop</td>\n",
       "      <td>2018-02-19 17:21:00</td>\n",
       "      <td>2</td>\n",
       "      <td>2018-02-19 16:53:00</td>\n",
       "      <td>104060357244891740</td>\n",
       "    </tr>\n",
       "    <tr>\n",
       "      <th>2</th>\n",
       "      <td>touch</td>\n",
       "      <td>2017-07-01 01:54:00</td>\n",
       "      <td>5</td>\n",
       "      <td>2017-07-01 01:54:00</td>\n",
       "      <td>7459035603376831527</td>\n",
       "    </tr>\n",
       "    <tr>\n",
       "      <th>3</th>\n",
       "      <td>desktop</td>\n",
       "      <td>2018-05-20 11:23:00</td>\n",
       "      <td>9</td>\n",
       "      <td>2018-05-20 10:59:00</td>\n",
       "      <td>16174680259334210214</td>\n",
       "    </tr>\n",
       "    <tr>\n",
       "      <th>4</th>\n",
       "      <td>desktop</td>\n",
       "      <td>2017-12-27 14:06:00</td>\n",
       "      <td>3</td>\n",
       "      <td>2017-12-27 14:06:00</td>\n",
       "      <td>9969694820036681168</td>\n",
       "    </tr>\n",
       "  </tbody>\n",
       "</table>\n",
       "</div>"
      ],
      "text/plain": [
       "    device              end_ts  source_id            start_ts  \\\n",
       "0    touch 2017-12-20 17:38:00          4 2017-12-20 17:20:00   \n",
       "1  desktop 2018-02-19 17:21:00          2 2018-02-19 16:53:00   \n",
       "2    touch 2017-07-01 01:54:00          5 2017-07-01 01:54:00   \n",
       "3  desktop 2018-05-20 11:23:00          9 2018-05-20 10:59:00   \n",
       "4  desktop 2017-12-27 14:06:00          3 2017-12-27 14:06:00   \n",
       "\n",
       "                    uid  \n",
       "0  16879256277535980062  \n",
       "1    104060357244891740  \n",
       "2   7459035603376831527  \n",
       "3  16174680259334210214  \n",
       "4   9969694820036681168  "
      ]
     },
     "execution_count": 140,
     "metadata": {},
     "output_type": "execute_result"
    }
   ],
   "source": [
    "visits.head(5)"
   ]
  },
  {
   "cell_type": "markdown",
   "id": "e0ff7d8f",
   "metadata": {},
   "source": [
    "Crearemos columnas separadas para los valores de año, mes, semana y fecha que utilizaremos para hacer el análisis de las preguntas siguientes"
   ]
  },
  {
   "cell_type": "code",
   "execution_count": 141,
   "id": "5c752221",
   "metadata": {},
   "outputs": [
    {
     "data": {
      "text/html": [
       "<div>\n",
       "<style scoped>\n",
       "    .dataframe tbody tr th:only-of-type {\n",
       "        vertical-align: middle;\n",
       "    }\n",
       "\n",
       "    .dataframe tbody tr th {\n",
       "        vertical-align: top;\n",
       "    }\n",
       "\n",
       "    .dataframe thead th {\n",
       "        text-align: right;\n",
       "    }\n",
       "</style>\n",
       "<table border=\"1\" class=\"dataframe\">\n",
       "  <thead>\n",
       "    <tr style=\"text-align: right;\">\n",
       "      <th></th>\n",
       "      <th>device</th>\n",
       "      <th>end_ts</th>\n",
       "      <th>source_id</th>\n",
       "      <th>start_ts</th>\n",
       "      <th>uid</th>\n",
       "      <th>session_year</th>\n",
       "      <th>session_month</th>\n",
       "      <th>session_week</th>\n",
       "      <th>session_date</th>\n",
       "    </tr>\n",
       "  </thead>\n",
       "  <tbody>\n",
       "    <tr>\n",
       "      <th>0</th>\n",
       "      <td>touch</td>\n",
       "      <td>2017-12-20 17:38:00</td>\n",
       "      <td>4</td>\n",
       "      <td>2017-12-20 17:20:00</td>\n",
       "      <td>16879256277535980062</td>\n",
       "      <td>2017</td>\n",
       "      <td>12</td>\n",
       "      <td>51</td>\n",
       "      <td>2017-12-20</td>\n",
       "    </tr>\n",
       "    <tr>\n",
       "      <th>1</th>\n",
       "      <td>desktop</td>\n",
       "      <td>2018-02-19 17:21:00</td>\n",
       "      <td>2</td>\n",
       "      <td>2018-02-19 16:53:00</td>\n",
       "      <td>104060357244891740</td>\n",
       "      <td>2018</td>\n",
       "      <td>2</td>\n",
       "      <td>8</td>\n",
       "      <td>2018-02-19</td>\n",
       "    </tr>\n",
       "    <tr>\n",
       "      <th>2</th>\n",
       "      <td>touch</td>\n",
       "      <td>2017-07-01 01:54:00</td>\n",
       "      <td>5</td>\n",
       "      <td>2017-07-01 01:54:00</td>\n",
       "      <td>7459035603376831527</td>\n",
       "      <td>2017</td>\n",
       "      <td>7</td>\n",
       "      <td>26</td>\n",
       "      <td>2017-07-01</td>\n",
       "    </tr>\n",
       "    <tr>\n",
       "      <th>3</th>\n",
       "      <td>desktop</td>\n",
       "      <td>2018-05-20 11:23:00</td>\n",
       "      <td>9</td>\n",
       "      <td>2018-05-20 10:59:00</td>\n",
       "      <td>16174680259334210214</td>\n",
       "      <td>2018</td>\n",
       "      <td>5</td>\n",
       "      <td>20</td>\n",
       "      <td>2018-05-20</td>\n",
       "    </tr>\n",
       "    <tr>\n",
       "      <th>4</th>\n",
       "      <td>desktop</td>\n",
       "      <td>2017-12-27 14:06:00</td>\n",
       "      <td>3</td>\n",
       "      <td>2017-12-27 14:06:00</td>\n",
       "      <td>9969694820036681168</td>\n",
       "      <td>2017</td>\n",
       "      <td>12</td>\n",
       "      <td>52</td>\n",
       "      <td>2017-12-27</td>\n",
       "    </tr>\n",
       "  </tbody>\n",
       "</table>\n",
       "</div>"
      ],
      "text/plain": [
       "    device              end_ts  source_id            start_ts  \\\n",
       "0    touch 2017-12-20 17:38:00          4 2017-12-20 17:20:00   \n",
       "1  desktop 2018-02-19 17:21:00          2 2018-02-19 16:53:00   \n",
       "2    touch 2017-07-01 01:54:00          5 2017-07-01 01:54:00   \n",
       "3  desktop 2018-05-20 11:23:00          9 2018-05-20 10:59:00   \n",
       "4  desktop 2017-12-27 14:06:00          3 2017-12-27 14:06:00   \n",
       "\n",
       "                    uid  session_year  session_month  session_week  \\\n",
       "0  16879256277535980062          2017             12            51   \n",
       "1    104060357244891740          2018              2             8   \n",
       "2   7459035603376831527          2017              7            26   \n",
       "3  16174680259334210214          2018              5            20   \n",
       "4   9969694820036681168          2017             12            52   \n",
       "\n",
       "  session_date  \n",
       "0   2017-12-20  \n",
       "1   2018-02-19  \n",
       "2   2017-07-01  \n",
       "3   2018-05-20  \n",
       "4   2017-12-27  "
      ]
     },
     "execution_count": 141,
     "metadata": {},
     "output_type": "execute_result"
    }
   ],
   "source": [
    "# Separación de tipo de datos, para año y semana es necesario utilizar isocalendar().\n",
    "visits['session_year'] = visits['start_ts'].dt.isocalendar().year\n",
    "visits['session_month'] = visits['start_ts'].dt.month\n",
    "visits['session_week'] = visits['start_ts'].dt.isocalendar().week\n",
    "visits['session_date'] = visits['start_ts'].dt.date\n",
    "\n",
    "visits.head(5)"
   ]
  },
  {
   "cell_type": "markdown",
   "id": "eb30fcf8",
   "metadata": {},
   "source": [
    "### 1.1 ¿Cuántas personas lo usan cada día, semana y mes?"
   ]
  },
  {
   "cell_type": "markdown",
   "id": "4ddada82",
   "metadata": {},
   "source": [
    "Utilizaremos las métricas de DAU, WAU y MAU para saber cuántos usuarios lo usan. "
   ]
  },
  {
   "cell_type": "code",
   "execution_count": 142,
   "id": "5edd7229",
   "metadata": {},
   "outputs": [
    {
     "name": "stdout",
     "output_type": "stream",
     "text": [
      "El DAU total es: uid    907\n",
      "dtype: int64\n",
      "El WAU total es: uid    5716\n",
      "dtype: int64\n",
      "El MAU total es: uid    23228\n",
      "dtype: int64\n"
     ]
    }
   ],
   "source": [
    "dau = visits.groupby('session_date').agg({'uid': 'nunique'}).mean().astype('int64')\n",
    "wau = visits.groupby(['session_year', 'session_week']).agg({'uid': 'nunique'}).mean().astype('int64')\n",
    "mau = visits.groupby(['session_year', 'session_month']).agg({'uid': 'nunique'}).mean().astype('int64')\n",
    "\n",
    "print(f\"El DAU total es: {dau}\")\n",
    "print(f\"El WAU total es: {wau}\")\n",
    "print(f\"El MAU total es: {mau}\")"
   ]
  },
  {
   "cell_type": "markdown",
   "id": "3de020cf",
   "metadata": {},
   "source": [
    "### Conclusión:\n",
    "- 907 personas en promedio visitan la página por día,\n",
    "- 5,716 personas en promedio visitan la página por semana y\n",
    "- 23,228 personas en promedio por mes. "
   ]
  },
  {
   "cell_type": "markdown",
   "id": "e73160a1",
   "metadata": {},
   "source": [
    "### 1.2 ¿Cuántas sesiones hay por día?"
   ]
  },
  {
   "cell_type": "code",
   "execution_count": 143,
   "id": "e59563bc",
   "metadata": {},
   "outputs": [
    {
     "name": "stdout",
     "output_type": "stream",
     "text": [
      "Sesiones por día: uid    987\n",
      "dtype: int64\n",
      "               uid\n",
      "session_date      \n",
      "2017-06-01     664\n",
      "2017-06-02     658\n",
      "2017-06-03     477\n",
      "2017-06-04     510\n",
      "2017-06-05     893\n",
      "...            ...\n",
      "2018-05-27     672\n",
      "2018-05-28    1156\n",
      "2018-05-29    1035\n",
      "2018-05-30    1410\n",
      "2018-05-31    2256\n",
      "\n",
      "[364 rows x 1 columns]\n"
     ]
    }
   ],
   "source": [
    "sessions_per_day = visits.groupby('session_date').agg({'uid': 'count'}).mean().astype('int64')\n",
    "session_every_day = visits.groupby('session_date').agg({'uid': 'count'}).astype('int64')\n",
    "\n",
    "print(f\"Sesiones por día: {sessions_per_day}\")\n",
    "print(session_every_day)"
   ]
  },
  {
   "cell_type": "markdown",
   "id": "724491bb",
   "metadata": {},
   "source": [
    "### Conclusión:\n",
    "Hay en promedio unas 987 sesiones por día, hay que considerar que los usuarios pueden realizar más de una sesión diaria."
   ]
  },
  {
   "cell_type": "markdown",
   "id": "a19fa078",
   "metadata": {},
   "source": [
    "### 1.3 ¿Cuál es la duración de cada sesión?"
   ]
  },
  {
   "cell_type": "markdown",
   "id": "1646a2ea",
   "metadata": {},
   "source": [
    "Aplicaremos una resta de la columna del tiempo que termina la sessión ('end_ts') menos el tiempo que inicia la sesión ('start_ts') y lo mostraremos en segundos junto a un histograma."
   ]
  },
  {
   "cell_type": "code",
   "execution_count": 144,
   "id": "41518d20",
   "metadata": {},
   "outputs": [
    {
     "name": "stdout",
     "output_type": "stream",
     "text": [
      "0         1080\n",
      "1         1680\n",
      "2            0\n",
      "3         1440\n",
      "4            0\n",
      "          ... \n",
      "359395      19\n",
      "359396      19\n",
      "359397      19\n",
      "359398      19\n",
      "359399      19\n",
      "Name: session_duration, Length: 359400, dtype: int32\n",
      "Axes(0.125,0.11;0.775x0.77)\n"
     ]
    },
    {
     "data": {
      "image/png": "[encoded data removed]",
      "text/plain": [
       "<Figure size 640x480 with 1 Axes>"
      ]
     },
     "metadata": {},
     "output_type": "display_data"
    }
   ],
   "source": [
    "visits['session_duration'] = (visits['end_ts'] - visits['start_ts']).dt.seconds\n",
    "\n",
    "print(visits['session_duration'])\n",
    "print(visits['session_duration'].hist(bins=100))"
   ]
  },
  {
   "cell_type": "markdown",
   "id": "50c4abe0",
   "metadata": {},
   "source": [
    "Con la métrica ASL podemos obtener la duración media de las sesiones."
   ]
  },
  {
   "cell_type": "code",
   "execution_count": 145,
   "id": "be4be7e6",
   "metadata": {},
   "outputs": [
    {
     "name": "stdout",
     "output_type": "stream",
     "text": [
      "0    60\n",
      "Name: session_duration, dtype: int32\n"
     ]
    }
   ],
   "source": [
    "asl = visits['session_duration'].mode()\n",
    "\n",
    "print(asl)"
   ]
  },
  {
   "cell_type": "markdown",
   "id": "313ee904",
   "metadata": {},
   "source": [
    "### Conclusión:\n",
    "Las duraciones de las sesiones no se distribuyen de manera uniforme, por eso debemos utilizar la métrica ASL para conocer la duración media por sesión que es de 60 segundos."
   ]
  },
  {
   "cell_type": "markdown",
   "id": "ffbdd94c",
   "metadata": {},
   "source": [
    "### 1.4 ¿Con qué frecuencia los usuarios regresan?"
   ]
  },
  {
   "cell_type": "markdown",
   "id": "df87e015",
   "metadata": {},
   "source": [
    "Utilizaremos el sticky factor para calcular la frecuencia de retorno de los usuarios."
   ]
  },
  {
   "cell_type": "code",
   "execution_count": 146,
   "id": "317f9621",
   "metadata": {},
   "outputs": [
    {
     "name": "stdout",
     "output_type": "stream",
     "text": [
      "El sticky factor mensual es de: uid    3.90477\n",
      "dtype: float64\n",
      "El sticky factor semanal es de: uid    15.86774\n",
      "dtype: float64\n"
     ]
    }
   ],
   "source": [
    "# sticky factor mensual \n",
    "sticky_factor_month = (dau / mau) * 100\n",
    "# sticky factor semanal \n",
    "sticky_factor_week = (dau / wau) * 100\n",
    "\n",
    "print(f\"El sticky factor mensual es de: {sticky_factor_month}\")\n",
    "print(f\"El sticky factor semanal es de: {sticky_factor_week}\")"
   ]
  },
  {
   "cell_type": "markdown",
   "id": "97bccf67",
   "metadata": {},
   "source": [
    "### Conclusión:\n",
    "- La frecuencia con la que regresan los usuarios semanalmente es del 15.8 porciento, y \n",
    "- la frecuencia con que regresan mensualmente es del 3.9 porciento."
   ]
  },
  {
   "cell_type": "markdown",
   "id": "d1d48c58",
   "metadata": {},
   "source": [
    "### 2. Ventas\n",
    "- 2.1 ¿Cuándo empieza la gente a comprar?\n",
    "- 2.2 ¿Cuántos pedidos hacen durante un periodo de tiempo dado?\n",
    "- 2.3 ¿Cuál es el tamaño promedio de compra?\n",
    "- 2.4 ¿Cuánto dinero traen?"
   ]
  },
  {
   "cell_type": "markdown",
   "id": "e364461f",
   "metadata": {},
   "source": [
    "Vamos a visualizar las primeras 5 filas."
   ]
  },
  {
   "cell_type": "code",
   "execution_count": 147,
   "id": "ef6bf560",
   "metadata": {},
   "outputs": [
    {
     "data": {
      "text/html": [
       "<div>\n",
       "<style scoped>\n",
       "    .dataframe tbody tr th:only-of-type {\n",
       "        vertical-align: middle;\n",
       "    }\n",
       "\n",
       "    .dataframe tbody tr th {\n",
       "        vertical-align: top;\n",
       "    }\n",
       "\n",
       "    .dataframe thead th {\n",
       "        text-align: right;\n",
       "    }\n",
       "</style>\n",
       "<table border=\"1\" class=\"dataframe\">\n",
       "  <thead>\n",
       "    <tr style=\"text-align: right;\">\n",
       "      <th></th>\n",
       "      <th>buy_ts</th>\n",
       "      <th>revenue</th>\n",
       "      <th>uid</th>\n",
       "    </tr>\n",
       "  </thead>\n",
       "  <tbody>\n",
       "    <tr>\n",
       "      <th>0</th>\n",
       "      <td>2017-06-01 00:10:00</td>\n",
       "      <td>17.00</td>\n",
       "      <td>10329302124590727494</td>\n",
       "    </tr>\n",
       "    <tr>\n",
       "      <th>1</th>\n",
       "      <td>2017-06-01 00:25:00</td>\n",
       "      <td>0.55</td>\n",
       "      <td>11627257723692907447</td>\n",
       "    </tr>\n",
       "    <tr>\n",
       "      <th>2</th>\n",
       "      <td>2017-06-01 00:27:00</td>\n",
       "      <td>0.37</td>\n",
       "      <td>17903680561304213844</td>\n",
       "    </tr>\n",
       "    <tr>\n",
       "      <th>3</th>\n",
       "      <td>2017-06-01 00:29:00</td>\n",
       "      <td>0.55</td>\n",
       "      <td>16109239769442553005</td>\n",
       "    </tr>\n",
       "    <tr>\n",
       "      <th>4</th>\n",
       "      <td>2017-06-01 07:58:00</td>\n",
       "      <td>0.37</td>\n",
       "      <td>14200605875248379450</td>\n",
       "    </tr>\n",
       "  </tbody>\n",
       "</table>\n",
       "</div>"
      ],
      "text/plain": [
       "               buy_ts  revenue                   uid\n",
       "0 2017-06-01 00:10:00    17.00  10329302124590727494\n",
       "1 2017-06-01 00:25:00     0.55  11627257723692907447\n",
       "2 2017-06-01 00:27:00     0.37  17903680561304213844\n",
       "3 2017-06-01 00:29:00     0.55  16109239769442553005\n",
       "4 2017-06-01 07:58:00     0.37  14200605875248379450"
      ]
     },
     "execution_count": 147,
     "metadata": {},
     "output_type": "execute_result"
    }
   ],
   "source": [
    "orders.head()"
   ]
  },
  {
   "cell_type": "markdown",
   "id": "ebe6efd1",
   "metadata": {},
   "source": [
    "Armamos los cohortes que serán de cada mes"
   ]
  },
  {
   "cell_type": "code",
   "execution_count": 148,
   "id": "2a9e44bb",
   "metadata": {},
   "outputs": [
    {
     "name": "stdout",
     "output_type": "stream",
     "text": [
      "uid\n",
      "313578113262317    2018-01-03 21:51:00\n",
      "1575281904278712   2017-06-03 10:13:00\n",
      "2429014661409475   2017-10-11 18:33:00\n",
      "2464366381792757   2018-01-28 15:54:00\n",
      "2551852515556206   2017-11-24 10:14:00\n",
      "Name: first_purchase_date, dtype: datetime64[ns]\n"
     ]
    }
   ],
   "source": [
    "# Calculamos la primera compra de cada cliente\n",
    "first_purchase = orders.groupby('uid')['buy_ts'].min()\n",
    "\n",
    "# Cambiamos el nombre del objeto Series 'buy_ts' resultante para poder unirlo con el DF orders y no haya nombres repetidos \n",
    "first_purchase.name = 'first_purchase_date'\n",
    "\n",
    "print(first_purchase.head())"
   ]
  },
  {
   "cell_type": "code",
   "execution_count": 149,
   "id": "1ee08eea",
   "metadata": {},
   "outputs": [
    {
     "name": "stdout",
     "output_type": "stream",
     "text": [
      "<class 'pandas.core.frame.DataFrame'>\n",
      "RangeIndex: 50415 entries, 0 to 50414\n",
      "Data columns (total 4 columns):\n",
      " #   Column               Non-Null Count  Dtype         \n",
      "---  ------               --------------  -----         \n",
      " 0   buy_ts               50415 non-null  datetime64[ns]\n",
      " 1   revenue              50415 non-null  float64       \n",
      " 2   uid                  50415 non-null  uint64        \n",
      " 3   first_purchase_date  50415 non-null  datetime64[ns]\n",
      "dtypes: datetime64[ns](2), float64(1), uint64(1)\n",
      "memory usage: 1.5 MB\n",
      "None\n"
     ]
    }
   ],
   "source": [
    "# Juntamos el DF con la Serie obtenida\n",
    "orders = orders.join(first_purchase, on= 'uid')\n",
    "\n",
    "print(orders.info())"
   ]
  },
  {
   "cell_type": "code",
   "execution_count": 150,
   "id": "fc24c814",
   "metadata": {},
   "outputs": [
    {
     "name": "stdout",
     "output_type": "stream",
     "text": [
      "               buy_ts  revenue                   uid first_purchase_date  \\\n",
      "0 2017-06-01 00:10:00    17.00  10329302124590727494 2017-06-01 00:10:00   \n",
      "1 2017-06-01 00:25:00     0.55  11627257723692907447 2017-06-01 00:25:00   \n",
      "2 2017-06-01 00:27:00     0.37  17903680561304213844 2017-06-01 00:27:00   \n",
      "3 2017-06-01 00:29:00     0.55  16109239769442553005 2017-06-01 00:29:00   \n",
      "4 2017-06-01 07:58:00     0.37  14200605875248379450 2017-06-01 07:58:00   \n",
      "5 2017-06-01 08:43:00     0.18  10402394430196413321 2017-06-01 08:43:00   \n",
      "6 2017-06-01 08:54:00     1.83  12464626743129688638 2017-06-01 08:54:00   \n",
      "7 2017-06-01 09:22:00     1.22   3644482766749211722 2017-06-01 09:22:00   \n",
      "8 2017-06-01 09:22:00     3.30  17542070709969841479 2017-06-01 09:22:00   \n",
      "9 2017-06-01 09:23:00     0.37   1074355127080856382 2017-06-01 09:23:00   \n",
      "\n",
      "  first_purchase_month purchase_month  \n",
      "0           2017-06-01     2017-06-01  \n",
      "1           2017-06-01     2017-06-01  \n",
      "2           2017-06-01     2017-06-01  \n",
      "3           2017-06-01     2017-06-01  \n",
      "4           2017-06-01     2017-06-01  \n",
      "5           2017-06-01     2017-06-01  \n",
      "6           2017-06-01     2017-06-01  \n",
      "7           2017-06-01     2017-06-01  \n",
      "8           2017-06-01     2017-06-01  \n",
      "9           2017-06-01     2017-06-01  \n"
     ]
    }
   ],
   "source": [
    "# Separamos los meses de las columnas \n",
    "orders['first_purchase_month'] = orders['first_purchase_date'].dt.to_period('M').dt.to_timestamp()\n",
    "orders['purchase_month'] = orders['buy_ts'].dt.to_period('M').dt.to_timestamp()\n",
    "\n",
    "print(orders.head(10))"
   ]
  },
  {
   "cell_type": "markdown",
   "id": "060ef87b",
   "metadata": {},
   "source": [
    "### 2.1 ¿Cuándo empieza la gente a comprar?"
   ]
  },
  {
   "cell_type": "markdown",
   "id": "bb0701bc",
   "metadata": {},
   "source": [
    "Vamos unir con el DF visits para saber la diferencia entre la fecha de la primera compra ('buy_ts') y la fecha de la primera sesión ('start_ts')"
   ]
  },
  {
   "cell_type": "code",
   "execution_count": 151,
   "id": "a45f1438",
   "metadata": {},
   "outputs": [
    {
     "name": "stdout",
     "output_type": "stream",
     "text": [
      "<class 'pandas.core.frame.DataFrame'>\n",
      "RangeIndex: 761807 entries, 0 to 761806\n",
      "Data columns (total 15 columns):\n",
      " #   Column                Non-Null Count   Dtype         \n",
      "---  ------                --------------   -----         \n",
      " 0   device                761807 non-null  object        \n",
      " 1   end_ts                761807 non-null  datetime64[ns]\n",
      " 2   source_id             761807 non-null  int64         \n",
      " 3   start_ts              761807 non-null  datetime64[ns]\n",
      " 4   uid                   761807 non-null  uint64        \n",
      " 5   session_year          761807 non-null  UInt32        \n",
      " 6   session_month         761807 non-null  int32         \n",
      " 7   session_week          761807 non-null  UInt32        \n",
      " 8   session_date          761807 non-null  object        \n",
      " 9   session_duration      761807 non-null  int32         \n",
      " 10  buy_ts                761807 non-null  datetime64[ns]\n",
      " 11  revenue               761807 non-null  float64       \n",
      " 12  first_purchase_date   761807 non-null  datetime64[ns]\n",
      " 13  first_purchase_month  761807 non-null  datetime64[ns]\n",
      " 14  purchase_month        761807 non-null  datetime64[ns]\n",
      "dtypes: UInt32(2), datetime64[ns](6), float64(1), int32(2), int64(1), object(2), uint64(1)\n",
      "memory usage: 77.0+ MB\n",
      "None\n"
     ]
    }
   ],
   "source": [
    "visits_orders = visits.merge(orders, on= 'uid')\n",
    "\n",
    "print(visits_orders.info())\n"
   ]
  },
  {
   "cell_type": "code",
   "execution_count": 152,
   "id": "03bd8078",
   "metadata": {},
   "outputs": [
    {
     "name": "stdout",
     "output_type": "stream",
     "text": [
      "uid\n",
      "313578113262317        2017-09-18 22:49:00\n",
      "1575281904278712       2017-06-03 10:13:00\n",
      "2429014661409475       2017-10-11 17:14:00\n",
      "2464366381792757       2018-01-27 20:10:00\n",
      "2551852515556206       2017-11-24 10:14:00\n",
      "                               ...        \n",
      "18445147675727495770   2017-08-20 13:30:00\n",
      "18445407535914413204   2017-09-22 23:48:00\n",
      "18445601152732270159   2017-08-07 11:51:00\n",
      "18446156210226471712   2017-11-07 10:01:00\n",
      "18446167067214817906   2017-10-17 10:05:00\n",
      "Name: first_visit_date, Length: 36523, dtype: datetime64[ns]\n"
     ]
    }
   ],
   "source": [
    "# Sacamos el mínimo para conocer la primera fecha de cada usuario en ingresar\n",
    "firts_visit = visits_orders.groupby('uid')['start_ts'].min()\n",
    "firts_visit.name = 'first_visit_date'\n",
    "\n",
    "print(firts_visit)"
   ]
  },
  {
   "cell_type": "code",
   "execution_count": 153,
   "id": "95179f11",
   "metadata": {},
   "outputs": [
    {
     "name": "stdout",
     "output_type": "stream",
     "text": [
      "    device              end_ts  source_id            start_ts  \\\n",
      "0  desktop 2018-05-20 11:23:00          9 2018-05-20 10:59:00   \n",
      "1  desktop 2017-09-03 21:36:00          5 2017-09-03 21:35:00   \n",
      "2  desktop 2017-09-03 21:36:00          5 2017-09-03 21:35:00   \n",
      "3  desktop 2017-09-03 21:36:00          5 2017-09-03 21:35:00   \n",
      "4  desktop 2018-02-06 15:50:00          4 2018-02-06 15:45:00   \n",
      "\n",
      "                    uid  session_year  session_month  session_week  \\\n",
      "0  16174680259334210214          2018              5            20   \n",
      "1  16007536194108375387          2017              9            35   \n",
      "2  16007536194108375387          2017              9            35   \n",
      "3  16007536194108375387          2017              9            35   \n",
      "4   8056418121947262981          2018              2             6   \n",
      "\n",
      "  session_date  session_duration              buy_ts  revenue  \\\n",
      "0   2018-05-20              1440 2018-03-09 20:25:00     2.33   \n",
      "1   2017-09-03                60 2017-09-04 12:46:00     2.44   \n",
      "2   2017-09-03                60 2017-10-28 00:01:00     1.53   \n",
      "3   2017-09-03                60 2017-10-28 19:16:00     1.53   \n",
      "4   2018-02-06               300 2017-06-25 08:54:00     3.67   \n",
      "\n",
      "  first_purchase_date first_purchase_month purchase_month    first_visit_date  \n",
      "0 2018-03-09 20:25:00           2018-03-01     2018-03-01 2018-03-09 20:05:00  \n",
      "1 2017-09-04 12:46:00           2017-09-01     2017-09-01 2017-09-03 21:35:00  \n",
      "2 2017-09-04 12:46:00           2017-09-01     2017-10-01 2017-09-03 21:35:00  \n",
      "3 2017-09-04 12:46:00           2017-09-01     2017-10-01 2017-09-03 21:35:00  \n",
      "4 2017-06-25 08:54:00           2017-06-01     2017-06-01 2017-06-04 14:17:00  \n"
     ]
    }
   ],
   "source": [
    "# Anexamos este nuevo objeto Series a unestro DF visits_order\n",
    "visits_orders = visits_orders.join(firts_visit, on= 'uid')\n",
    "print(visits_orders.head())\n"
   ]
  },
  {
   "cell_type": "code",
   "execution_count": 157,
   "id": "a3c8e9ae",
   "metadata": {},
   "outputs": [
    {
     "name": "stdout",
     "output_type": "stream",
     "text": [
      "Axes(0.125,0.11;0.775x0.77)\n"
     ]
    },
    {
     "data": {
      "image/png": "[encoded data removed]",
      "text/plain": [
       "<Figure size 640x480 with 1 Axes>"
      ]
     },
     "metadata": {},
     "output_type": "display_data"
    }
   ],
   "source": [
    "visits_orders['time_first_purchase'] = (visits_orders['first_purchase_date'] - visits_orders['first_visit_date']).dt.days\n",
    "\n",
    "print(visits_orders['time_first_purchase'].hist(bins= 100))"
   ]
  },
  {
   "cell_type": "code",
   "execution_count": 155,
   "id": "7c57829f",
   "metadata": {},
   "outputs": [
    {
     "name": "stdout",
     "output_type": "stream",
     "text": [
      "<bound method Series.median of 0          0\n",
      "1          0\n",
      "2          0\n",
      "3          0\n",
      "4         20\n",
      "          ..\n",
      "761802     0\n",
      "761803     0\n",
      "761804     0\n",
      "761805     0\n",
      "761806     0\n",
      "Name: time_first_purchase, Length: 761807, dtype: int64>\n"
     ]
    }
   ],
   "source": [
    "print(visits_orders['time_first_purchase'].astype('int64').median)"
   ]
  },
  {
   "cell_type": "markdown",
   "id": "ada74459",
   "metadata": {},
   "source": [
    "### Conclusión:\n",
    "La distribución del tiempo que la gente demora entre iniciar la página por primera vez y realizar su primera compra no es de manera uniforme, podemos concluir entonces que la mediana es de 0d para este cálculo."
   ]
  },
  {
   "cell_type": "markdown",
   "id": "d0309ca6",
   "metadata": {},
   "source": [
    "### 2.2 ¿Cuántos pedidos hacen durante un periodo de tiempo dado?"
   ]
  },
  {
   "cell_type": "markdown",
   "id": "490309c0",
   "metadata": {},
   "source": [
    "Vamos a darle un periodo de tiempo de un mes apoyado de los cohortes."
   ]
  },
  {
   "cell_type": "code",
   "execution_count": 161,
   "id": "ba021813",
   "metadata": {},
   "outputs": [
    {
     "data": {
      "text/html": [
       "<div>\n",
       "<style scoped>\n",
       "    .dataframe tbody tr th:only-of-type {\n",
       "        vertical-align: middle;\n",
       "    }\n",
       "\n",
       "    .dataframe tbody tr th {\n",
       "        vertical-align: top;\n",
       "    }\n",
       "\n",
       "    .dataframe thead th {\n",
       "        text-align: right;\n",
       "    }\n",
       "</style>\n",
       "<table border=\"1\" class=\"dataframe\">\n",
       "  <thead>\n",
       "    <tr style=\"text-align: right;\">\n",
       "      <th>purchase_month</th>\n",
       "      <th>2017-06-01</th>\n",
       "      <th>2017-07-01</th>\n",
       "      <th>2017-08-01</th>\n",
       "      <th>2017-09-01</th>\n",
       "      <th>2017-10-01</th>\n",
       "      <th>2017-11-01</th>\n",
       "      <th>2017-12-01</th>\n",
       "      <th>2018-01-01</th>\n",
       "      <th>2018-02-01</th>\n",
       "      <th>2018-03-01</th>\n",
       "      <th>2018-04-01</th>\n",
       "      <th>2018-05-01</th>\n",
       "      <th>2018-06-01</th>\n",
       "    </tr>\n",
       "    <tr>\n",
       "      <th>first_purchase_month</th>\n",
       "      <th></th>\n",
       "      <th></th>\n",
       "      <th></th>\n",
       "      <th></th>\n",
       "      <th></th>\n",
       "      <th></th>\n",
       "      <th></th>\n",
       "      <th></th>\n",
       "      <th></th>\n",
       "      <th></th>\n",
       "      <th></th>\n",
       "      <th></th>\n",
       "      <th></th>\n",
       "    </tr>\n",
       "  </thead>\n",
       "  <tbody>\n",
       "    <tr>\n",
       "      <th>2017-06-01</th>\n",
       "      <td>2354.0</td>\n",
       "      <td>177.0</td>\n",
       "      <td>174.0</td>\n",
       "      <td>226.0</td>\n",
       "      <td>292.0</td>\n",
       "      <td>218.0</td>\n",
       "      <td>276.0</td>\n",
       "      <td>174.0</td>\n",
       "      <td>212.0</td>\n",
       "      <td>153.0</td>\n",
       "      <td>96.0</td>\n",
       "      <td>86.0</td>\n",
       "      <td>NaN</td>\n",
       "    </tr>\n",
       "    <tr>\n",
       "      <th>2017-07-01</th>\n",
       "      <td>NaN</td>\n",
       "      <td>2186.0</td>\n",
       "      <td>100.0</td>\n",
       "      <td>120.0</td>\n",
       "      <td>104.0</td>\n",
       "      <td>72.0</td>\n",
       "      <td>82.0</td>\n",
       "      <td>61.0</td>\n",
       "      <td>50.0</td>\n",
       "      <td>58.0</td>\n",
       "      <td>24.0</td>\n",
       "      <td>53.0</td>\n",
       "      <td>NaN</td>\n",
       "    </tr>\n",
       "    <tr>\n",
       "      <th>2017-08-01</th>\n",
       "      <td>NaN</td>\n",
       "      <td>NaN</td>\n",
       "      <td>1533.0</td>\n",
       "      <td>108.0</td>\n",
       "      <td>100.0</td>\n",
       "      <td>81.0</td>\n",
       "      <td>85.0</td>\n",
       "      <td>62.0</td>\n",
       "      <td>49.0</td>\n",
       "      <td>78.0</td>\n",
       "      <td>46.0</td>\n",
       "      <td>46.0</td>\n",
       "      <td>NaN</td>\n",
       "    </tr>\n",
       "    <tr>\n",
       "      <th>2017-09-01</th>\n",
       "      <td>NaN</td>\n",
       "      <td>NaN</td>\n",
       "      <td>NaN</td>\n",
       "      <td>2933.0</td>\n",
       "      <td>219.0</td>\n",
       "      <td>161.0</td>\n",
       "      <td>164.0</td>\n",
       "      <td>67.0</td>\n",
       "      <td>109.0</td>\n",
       "      <td>108.0</td>\n",
       "      <td>56.0</td>\n",
       "      <td>61.0</td>\n",
       "      <td>NaN</td>\n",
       "    </tr>\n",
       "    <tr>\n",
       "      <th>2017-10-01</th>\n",
       "      <td>NaN</td>\n",
       "      <td>NaN</td>\n",
       "      <td>NaN</td>\n",
       "      <td>NaN</td>\n",
       "      <td>4964.0</td>\n",
       "      <td>314.0</td>\n",
       "      <td>162.0</td>\n",
       "      <td>122.0</td>\n",
       "      <td>129.0</td>\n",
       "      <td>103.0</td>\n",
       "      <td>86.0</td>\n",
       "      <td>125.0</td>\n",
       "      <td>NaN</td>\n",
       "    </tr>\n",
       "    <tr>\n",
       "      <th>2017-11-01</th>\n",
       "      <td>NaN</td>\n",
       "      <td>NaN</td>\n",
       "      <td>NaN</td>\n",
       "      <td>NaN</td>\n",
       "      <td>NaN</td>\n",
       "      <td>4813.0</td>\n",
       "      <td>397.0</td>\n",
       "      <td>182.0</td>\n",
       "      <td>211.0</td>\n",
       "      <td>136.0</td>\n",
       "      <td>59.0</td>\n",
       "      <td>102.0</td>\n",
       "      <td>NaN</td>\n",
       "    </tr>\n",
       "    <tr>\n",
       "      <th>2017-12-01</th>\n",
       "      <td>NaN</td>\n",
       "      <td>NaN</td>\n",
       "      <td>NaN</td>\n",
       "      <td>NaN</td>\n",
       "      <td>NaN</td>\n",
       "      <td>NaN</td>\n",
       "      <td>5052.0</td>\n",
       "      <td>270.0</td>\n",
       "      <td>202.0</td>\n",
       "      <td>179.0</td>\n",
       "      <td>86.0</td>\n",
       "      <td>105.0</td>\n",
       "      <td>NaN</td>\n",
       "    </tr>\n",
       "    <tr>\n",
       "      <th>2018-01-01</th>\n",
       "      <td>NaN</td>\n",
       "      <td>NaN</td>\n",
       "      <td>NaN</td>\n",
       "      <td>NaN</td>\n",
       "      <td>NaN</td>\n",
       "      <td>NaN</td>\n",
       "      <td>NaN</td>\n",
       "      <td>3783.0</td>\n",
       "      <td>224.0</td>\n",
       "      <td>159.0</td>\n",
       "      <td>64.0</td>\n",
       "      <td>78.0</td>\n",
       "      <td>NaN</td>\n",
       "    </tr>\n",
       "    <tr>\n",
       "      <th>2018-02-01</th>\n",
       "      <td>NaN</td>\n",
       "      <td>NaN</td>\n",
       "      <td>NaN</td>\n",
       "      <td>NaN</td>\n",
       "      <td>NaN</td>\n",
       "      <td>NaN</td>\n",
       "      <td>NaN</td>\n",
       "      <td>NaN</td>\n",
       "      <td>4095.0</td>\n",
       "      <td>222.0</td>\n",
       "      <td>83.0</td>\n",
       "      <td>70.0</td>\n",
       "      <td>NaN</td>\n",
       "    </tr>\n",
       "    <tr>\n",
       "      <th>2018-03-01</th>\n",
       "      <td>NaN</td>\n",
       "      <td>NaN</td>\n",
       "      <td>NaN</td>\n",
       "      <td>NaN</td>\n",
       "      <td>NaN</td>\n",
       "      <td>NaN</td>\n",
       "      <td>NaN</td>\n",
       "      <td>NaN</td>\n",
       "      <td>NaN</td>\n",
       "      <td>4130.0</td>\n",
       "      <td>178.0</td>\n",
       "      <td>176.0</td>\n",
       "      <td>NaN</td>\n",
       "    </tr>\n",
       "    <tr>\n",
       "      <th>2018-04-01</th>\n",
       "      <td>NaN</td>\n",
       "      <td>NaN</td>\n",
       "      <td>NaN</td>\n",
       "      <td>NaN</td>\n",
       "      <td>NaN</td>\n",
       "      <td>NaN</td>\n",
       "      <td>NaN</td>\n",
       "      <td>NaN</td>\n",
       "      <td>NaN</td>\n",
       "      <td>NaN</td>\n",
       "      <td>2495.0</td>\n",
       "      <td>195.0</td>\n",
       "      <td>NaN</td>\n",
       "    </tr>\n",
       "    <tr>\n",
       "      <th>2018-05-01</th>\n",
       "      <td>NaN</td>\n",
       "      <td>NaN</td>\n",
       "      <td>NaN</td>\n",
       "      <td>NaN</td>\n",
       "      <td>NaN</td>\n",
       "      <td>NaN</td>\n",
       "      <td>NaN</td>\n",
       "      <td>NaN</td>\n",
       "      <td>NaN</td>\n",
       "      <td>NaN</td>\n",
       "      <td>NaN</td>\n",
       "      <td>3249.0</td>\n",
       "      <td>NaN</td>\n",
       "    </tr>\n",
       "    <tr>\n",
       "      <th>2018-06-01</th>\n",
       "      <td>NaN</td>\n",
       "      <td>NaN</td>\n",
       "      <td>NaN</td>\n",
       "      <td>NaN</td>\n",
       "      <td>NaN</td>\n",
       "      <td>NaN</td>\n",
       "      <td>NaN</td>\n",
       "      <td>NaN</td>\n",
       "      <td>NaN</td>\n",
       "      <td>NaN</td>\n",
       "      <td>NaN</td>\n",
       "      <td>NaN</td>\n",
       "      <td>1.0</td>\n",
       "    </tr>\n",
       "  </tbody>\n",
       "</table>\n",
       "</div>"
      ],
      "text/plain": [
       "purchase_month        2017-06-01  2017-07-01  2017-08-01  2017-09-01  \\\n",
       "first_purchase_month                                                   \n",
       "2017-06-01                2354.0       177.0       174.0       226.0   \n",
       "2017-07-01                   NaN      2186.0       100.0       120.0   \n",
       "2017-08-01                   NaN         NaN      1533.0       108.0   \n",
       "2017-09-01                   NaN         NaN         NaN      2933.0   \n",
       "2017-10-01                   NaN         NaN         NaN         NaN   \n",
       "2017-11-01                   NaN         NaN         NaN         NaN   \n",
       "2017-12-01                   NaN         NaN         NaN         NaN   \n",
       "2018-01-01                   NaN         NaN         NaN         NaN   \n",
       "2018-02-01                   NaN         NaN         NaN         NaN   \n",
       "2018-03-01                   NaN         NaN         NaN         NaN   \n",
       "2018-04-01                   NaN         NaN         NaN         NaN   \n",
       "2018-05-01                   NaN         NaN         NaN         NaN   \n",
       "2018-06-01                   NaN         NaN         NaN         NaN   \n",
       "\n",
       "purchase_month        2017-10-01  2017-11-01  2017-12-01  2018-01-01  \\\n",
       "first_purchase_month                                                   \n",
       "2017-06-01                 292.0       218.0       276.0       174.0   \n",
       "2017-07-01                 104.0        72.0        82.0        61.0   \n",
       "2017-08-01                 100.0        81.0        85.0        62.0   \n",
       "2017-09-01                 219.0       161.0       164.0        67.0   \n",
       "2017-10-01                4964.0       314.0       162.0       122.0   \n",
       "2017-11-01                   NaN      4813.0       397.0       182.0   \n",
       "2017-12-01                   NaN         NaN      5052.0       270.0   \n",
       "2018-01-01                   NaN         NaN         NaN      3783.0   \n",
       "2018-02-01                   NaN         NaN         NaN         NaN   \n",
       "2018-03-01                   NaN         NaN         NaN         NaN   \n",
       "2018-04-01                   NaN         NaN         NaN         NaN   \n",
       "2018-05-01                   NaN         NaN         NaN         NaN   \n",
       "2018-06-01                   NaN         NaN         NaN         NaN   \n",
       "\n",
       "purchase_month        2018-02-01  2018-03-01  2018-04-01  2018-05-01  \\\n",
       "first_purchase_month                                                   \n",
       "2017-06-01                 212.0       153.0        96.0        86.0   \n",
       "2017-07-01                  50.0        58.0        24.0        53.0   \n",
       "2017-08-01                  49.0        78.0        46.0        46.0   \n",
       "2017-09-01                 109.0       108.0        56.0        61.0   \n",
       "2017-10-01                 129.0       103.0        86.0       125.0   \n",
       "2017-11-01                 211.0       136.0        59.0       102.0   \n",
       "2017-12-01                 202.0       179.0        86.0       105.0   \n",
       "2018-01-01                 224.0       159.0        64.0        78.0   \n",
       "2018-02-01                4095.0       222.0        83.0        70.0   \n",
       "2018-03-01                   NaN      4130.0       178.0       176.0   \n",
       "2018-04-01                   NaN         NaN      2495.0       195.0   \n",
       "2018-05-01                   NaN         NaN         NaN      3249.0   \n",
       "2018-06-01                   NaN         NaN         NaN         NaN   \n",
       "\n",
       "purchase_month        2018-06-01  \n",
       "first_purchase_month              \n",
       "2017-06-01                   NaN  \n",
       "2017-07-01                   NaN  \n",
       "2017-08-01                   NaN  \n",
       "2017-09-01                   NaN  \n",
       "2017-10-01                   NaN  \n",
       "2017-11-01                   NaN  \n",
       "2017-12-01                   NaN  \n",
       "2018-01-01                   NaN  \n",
       "2018-02-01                   NaN  \n",
       "2018-03-01                   NaN  \n",
       "2018-04-01                   NaN  \n",
       "2018-05-01                   NaN  \n",
       "2018-06-01                   1.0  "
      ]
     },
     "execution_count": 161,
     "metadata": {},
     "output_type": "execute_result"
    }
   ],
   "source": [
    "orders.pivot_table(\n",
    "    index= 'first_purchase_month',\n",
    "    columns= 'purchase_month',\n",
    "    values='uid',\n",
    "    aggfunc= 'count',\n",
    ")"
   ]
  },
  {
   "cell_type": "code",
   "execution_count": 163,
   "id": "1c384614",
   "metadata": {},
   "outputs": [
    {
     "name": "stdout",
     "output_type": "stream",
     "text": [
      "purchase_month\n",
      "2017-06-01    2354\n",
      "2017-07-01    2363\n",
      "2017-08-01    1807\n",
      "2017-09-01    3387\n",
      "2017-10-01    5679\n",
      "2017-11-01    5659\n",
      "2017-12-01    6218\n",
      "2018-01-01    4721\n",
      "2018-02-01    5281\n",
      "2018-03-01    5326\n",
      "2018-04-01    3273\n",
      "2018-05-01    4346\n",
      "2018-06-01       1\n",
      "Name: uid, dtype: int64\n"
     ]
    }
   ],
   "source": [
    "# total de cada mes\n",
    "orders_per_month = orders.groupby('purchase_month')['uid'].count()\n",
    "print(orders_per_month)"
   ]
  },
  {
   "cell_type": "markdown",
   "id": "318ad929",
   "metadata": {},
   "source": [
    "### Conclusiones:\n",
    "Explicación de la tabla:\n",
    "El primer mes de registro, primer cohorte (2017-06-01 -- \"2017-06-01\") se realizaron 2354 pedidos, y el segundo mes solo 177 volvieron a comprar, el tercer mes 174 pedidos y así sucesivamente.\n",
    "Segundo cohorte con inicio el (2017-07-01 -- \"2017-07-01\") se realizaron 2186 pedidos, y el mes siguiente solo 100 usuarios volvieron a realizar pedidos, así sucesivamente.\n",
    "\n",
    "En la ultima columna aparece como NaN porque no tenemos datos al respecto, solo 1 registro.\n",
    "\n",
    "Si queremos el total de pedidos, podemos verlos en la segunda tabla, que viene siendo la sumatoria de las columnas de cada cohorte. concluimos de esta que en el mes de diciembre es donde más se hacen compras (Debe de ser por todos los eventos que se hacen por navidad y año nuevo)."
   ]
  },
  {
   "cell_type": "markdown",
   "id": "c642bdd5",
   "metadata": {},
   "source": [
    "### 2.3 ¿Cuál es el tamaño promedio de compras?"
   ]
  },
  {
   "cell_type": "code",
   "execution_count": null,
   "id": "3515d7ac",
   "metadata": {},
   "outputs": [
    {
     "name": "stdout",
     "output_type": "stream",
     "text": [
      "                                     revenue   uid\n",
      "first_purchase_month purchase_month               \n",
      "2017-06-01           2017-06-01      9557.49  2023\n",
      "                     2017-07-01       981.82    61\n",
      "                     2017-08-01       885.34    50\n",
      "                     2017-09-01      1931.30    54\n",
      "                     2017-10-01      2068.58    88\n"
     ]
    }
   ],
   "source": [
    "# Agrupamos los datos por cohortes y por mes de compra\n",
    "orders_grouped_by_cohorts = orders.groupby(\n",
    "    ['first_purchase_month', 'purchase_month']\n",
    ").agg({'revenue': 'sum', 'uid': 'nunique'})\n",
    "\n",
    "print(orders_grouped_by_cohorts.head())"
   ]
  },
  {
   "cell_type": "code",
   "execution_count": 169,
   "id": "bf2ae51f",
   "metadata": {},
   "outputs": [
    {
     "name": "stdout",
     "output_type": "stream",
     "text": [
      "                                     revenue   uid  revenue_per_user\n",
      "first_purchase_month purchase_month                                 \n",
      "2017-06-01           2017-06-01      9557.49  2023          4.724414\n",
      "                     2017-07-01       981.82    61         16.095410\n",
      "                     2017-08-01       885.34    50         17.706800\n",
      "                     2017-09-01      1931.30    54         35.764815\n",
      "                     2017-10-01      2068.58    88         23.506591\n"
     ]
    }
   ],
   "source": [
    "# Encontramos el tamaño promedio por usuario  por compras\n",
    "orders_grouped_by_cohorts['revenue_per_user'] = (\n",
    "    orders_grouped_by_cohorts['revenue']\n",
    "    / orders_grouped_by_cohorts['uid']\n",
    ")\n",
    "\n",
    "print(orders_grouped_by_cohorts.head())"
   ]
  },
  {
   "cell_type": "code",
   "execution_count": 181,
   "id": "2a032d7d",
   "metadata": {},
   "outputs": [
    {
     "data": {
      "text/html": [
       "<div>\n",
       "<style scoped>\n",
       "    .dataframe tbody tr th:only-of-type {\n",
       "        vertical-align: middle;\n",
       "    }\n",
       "\n",
       "    .dataframe tbody tr th {\n",
       "        vertical-align: top;\n",
       "    }\n",
       "\n",
       "    .dataframe thead th {\n",
       "        text-align: right;\n",
       "    }\n",
       "</style>\n",
       "<table border=\"1\" class=\"dataframe\">\n",
       "  <thead>\n",
       "    <tr style=\"text-align: right;\">\n",
       "      <th>purchase_month</th>\n",
       "      <th>2017-06-01</th>\n",
       "      <th>2017-07-01</th>\n",
       "      <th>2017-08-01</th>\n",
       "      <th>2017-09-01</th>\n",
       "      <th>2017-10-01</th>\n",
       "      <th>2017-11-01</th>\n",
       "      <th>2017-12-01</th>\n",
       "      <th>2018-01-01</th>\n",
       "      <th>2018-02-01</th>\n",
       "      <th>2018-03-01</th>\n",
       "      <th>2018-04-01</th>\n",
       "      <th>2018-05-01</th>\n",
       "      <th>2018-06-01</th>\n",
       "    </tr>\n",
       "    <tr>\n",
       "      <th>first_purchase_month</th>\n",
       "      <th></th>\n",
       "      <th></th>\n",
       "      <th></th>\n",
       "      <th></th>\n",
       "      <th></th>\n",
       "      <th></th>\n",
       "      <th></th>\n",
       "      <th></th>\n",
       "      <th></th>\n",
       "      <th></th>\n",
       "      <th></th>\n",
       "      <th></th>\n",
       "      <th></th>\n",
       "    </tr>\n",
       "  </thead>\n",
       "  <tbody>\n",
       "    <tr>\n",
       "      <th>2017-06-01</th>\n",
       "      <td>4.724414</td>\n",
       "      <td>16.095410</td>\n",
       "      <td>17.706800</td>\n",
       "      <td>35.764815</td>\n",
       "      <td>23.506591</td>\n",
       "      <td>22.207761</td>\n",
       "      <td>31.011935</td>\n",
       "      <td>25.033191</td>\n",
       "      <td>19.295690</td>\n",
       "      <td>27.233556</td>\n",
       "      <td>25.681333</td>\n",
       "      <td>9.804151</td>\n",
       "      <td>NaN</td>\n",
       "    </tr>\n",
       "    <tr>\n",
       "      <th>2017-07-01</th>\n",
       "      <td>NaN</td>\n",
       "      <td>6.010218</td>\n",
       "      <td>12.396346</td>\n",
       "      <td>21.035965</td>\n",
       "      <td>10.786094</td>\n",
       "      <td>6.938163</td>\n",
       "      <td>7.896842</td>\n",
       "      <td>6.421111</td>\n",
       "      <td>6.992821</td>\n",
       "      <td>7.382143</td>\n",
       "      <td>12.861818</td>\n",
       "      <td>11.513846</td>\n",
       "      <td>NaN</td>\n",
       "    </tr>\n",
       "    <tr>\n",
       "      <th>2017-08-01</th>\n",
       "      <td>NaN</td>\n",
       "      <td>NaN</td>\n",
       "      <td>5.276518</td>\n",
       "      <td>11.148793</td>\n",
       "      <td>11.851321</td>\n",
       "      <td>12.182955</td>\n",
       "      <td>16.921250</td>\n",
       "      <td>12.139062</td>\n",
       "      <td>9.620333</td>\n",
       "      <td>12.610455</td>\n",
       "      <td>21.070000</td>\n",
       "      <td>8.307419</td>\n",
       "      <td>NaN</td>\n",
       "    </tr>\n",
       "    <tr>\n",
       "      <th>2017-09-01</th>\n",
       "      <td>NaN</td>\n",
       "      <td>NaN</td>\n",
       "      <td>NaN</td>\n",
       "      <td>5.644529</td>\n",
       "      <td>22.188385</td>\n",
       "      <td>13.445200</td>\n",
       "      <td>138.669189</td>\n",
       "      <td>19.881538</td>\n",
       "      <td>26.095000</td>\n",
       "      <td>27.437121</td>\n",
       "      <td>16.961351</td>\n",
       "      <td>11.044651</td>\n",
       "      <td>NaN</td>\n",
       "    </tr>\n",
       "    <tr>\n",
       "      <th>2017-10-01</th>\n",
       "      <td>NaN</td>\n",
       "      <td>NaN</td>\n",
       "      <td>NaN</td>\n",
       "      <td>NaN</td>\n",
       "      <td>5.003733</td>\n",
       "      <td>11.287427</td>\n",
       "      <td>6.753252</td>\n",
       "      <td>7.413152</td>\n",
       "      <td>7.072796</td>\n",
       "      <td>7.255139</td>\n",
       "      <td>6.573214</td>\n",
       "      <td>7.479701</td>\n",
       "      <td>NaN</td>\n",
       "    </tr>\n",
       "    <tr>\n",
       "      <th>2017-11-01</th>\n",
       "      <td>NaN</td>\n",
       "      <td>NaN</td>\n",
       "      <td>NaN</td>\n",
       "      <td>NaN</td>\n",
       "      <td>NaN</td>\n",
       "      <td>5.154683</td>\n",
       "      <td>7.339054</td>\n",
       "      <td>6.786583</td>\n",
       "      <td>12.510660</td>\n",
       "      <td>7.457284</td>\n",
       "      <td>4.580833</td>\n",
       "      <td>7.564839</td>\n",
       "      <td>NaN</td>\n",
       "    </tr>\n",
       "    <tr>\n",
       "      <th>2017-12-01</th>\n",
       "      <td>NaN</td>\n",
       "      <td>NaN</td>\n",
       "      <td>NaN</td>\n",
       "      <td>NaN</td>\n",
       "      <td>NaN</td>\n",
       "      <td>NaN</td>\n",
       "      <td>4.738191</td>\n",
       "      <td>7.816575</td>\n",
       "      <td>39.366019</td>\n",
       "      <td>48.135052</td>\n",
       "      <td>27.431400</td>\n",
       "      <td>23.518413</td>\n",
       "      <td>NaN</td>\n",
       "    </tr>\n",
       "    <tr>\n",
       "      <th>2018-01-01</th>\n",
       "      <td>NaN</td>\n",
       "      <td>NaN</td>\n",
       "      <td>NaN</td>\n",
       "      <td>NaN</td>\n",
       "      <td>NaN</td>\n",
       "      <td>NaN</td>\n",
       "      <td>NaN</td>\n",
       "      <td>4.135636</td>\n",
       "      <td>8.721228</td>\n",
       "      <td>12.365542</td>\n",
       "      <td>11.199767</td>\n",
       "      <td>4.699556</td>\n",
       "      <td>NaN</td>\n",
       "    </tr>\n",
       "    <tr>\n",
       "      <th>2018-02-01</th>\n",
       "      <td>NaN</td>\n",
       "      <td>NaN</td>\n",
       "      <td>NaN</td>\n",
       "      <td>NaN</td>\n",
       "      <td>NaN</td>\n",
       "      <td>NaN</td>\n",
       "      <td>NaN</td>\n",
       "      <td>NaN</td>\n",
       "      <td>4.156987</td>\n",
       "      <td>8.610000</td>\n",
       "      <td>4.942414</td>\n",
       "      <td>6.941026</td>\n",
       "      <td>NaN</td>\n",
       "    </tr>\n",
       "    <tr>\n",
       "      <th>2018-03-01</th>\n",
       "      <td>NaN</td>\n",
       "      <td>NaN</td>\n",
       "      <td>NaN</td>\n",
       "      <td>NaN</td>\n",
       "      <td>NaN</td>\n",
       "      <td>NaN</td>\n",
       "      <td>NaN</td>\n",
       "      <td>NaN</td>\n",
       "      <td>NaN</td>\n",
       "      <td>4.838803</td>\n",
       "      <td>11.811667</td>\n",
       "      <td>19.221897</td>\n",
       "      <td>NaN</td>\n",
       "    </tr>\n",
       "    <tr>\n",
       "      <th>2018-04-01</th>\n",
       "      <td>NaN</td>\n",
       "      <td>NaN</td>\n",
       "      <td>NaN</td>\n",
       "      <td>NaN</td>\n",
       "      <td>NaN</td>\n",
       "      <td>NaN</td>\n",
       "      <td>NaN</td>\n",
       "      <td>NaN</td>\n",
       "      <td>NaN</td>\n",
       "      <td>NaN</td>\n",
       "      <td>4.657597</td>\n",
       "      <td>17.535072</td>\n",
       "      <td>NaN</td>\n",
       "    </tr>\n",
       "    <tr>\n",
       "      <th>2018-05-01</th>\n",
       "      <td>NaN</td>\n",
       "      <td>NaN</td>\n",
       "      <td>NaN</td>\n",
       "      <td>NaN</td>\n",
       "      <td>NaN</td>\n",
       "      <td>NaN</td>\n",
       "      <td>NaN</td>\n",
       "      <td>NaN</td>\n",
       "      <td>NaN</td>\n",
       "      <td>NaN</td>\n",
       "      <td>NaN</td>\n",
       "      <td>4.660562</td>\n",
       "      <td>NaN</td>\n",
       "    </tr>\n",
       "    <tr>\n",
       "      <th>2018-06-01</th>\n",
       "      <td>NaN</td>\n",
       "      <td>NaN</td>\n",
       "      <td>NaN</td>\n",
       "      <td>NaN</td>\n",
       "      <td>NaN</td>\n",
       "      <td>NaN</td>\n",
       "      <td>NaN</td>\n",
       "      <td>NaN</td>\n",
       "      <td>NaN</td>\n",
       "      <td>NaN</td>\n",
       "      <td>NaN</td>\n",
       "      <td>NaN</td>\n",
       "      <td>3.42</td>\n",
       "    </tr>\n",
       "  </tbody>\n",
       "</table>\n",
       "</div>"
      ],
      "text/plain": [
       "purchase_month        2017-06-01  2017-07-01  2017-08-01  2017-09-01  \\\n",
       "first_purchase_month                                                   \n",
       "2017-06-01              4.724414   16.095410   17.706800   35.764815   \n",
       "2017-07-01                   NaN    6.010218   12.396346   21.035965   \n",
       "2017-08-01                   NaN         NaN    5.276518   11.148793   \n",
       "2017-09-01                   NaN         NaN         NaN    5.644529   \n",
       "2017-10-01                   NaN         NaN         NaN         NaN   \n",
       "2017-11-01                   NaN         NaN         NaN         NaN   \n",
       "2017-12-01                   NaN         NaN         NaN         NaN   \n",
       "2018-01-01                   NaN         NaN         NaN         NaN   \n",
       "2018-02-01                   NaN         NaN         NaN         NaN   \n",
       "2018-03-01                   NaN         NaN         NaN         NaN   \n",
       "2018-04-01                   NaN         NaN         NaN         NaN   \n",
       "2018-05-01                   NaN         NaN         NaN         NaN   \n",
       "2018-06-01                   NaN         NaN         NaN         NaN   \n",
       "\n",
       "purchase_month        2017-10-01  2017-11-01  2017-12-01  2018-01-01  \\\n",
       "first_purchase_month                                                   \n",
       "2017-06-01             23.506591   22.207761   31.011935   25.033191   \n",
       "2017-07-01             10.786094    6.938163    7.896842    6.421111   \n",
       "2017-08-01             11.851321   12.182955   16.921250   12.139062   \n",
       "2017-09-01             22.188385   13.445200  138.669189   19.881538   \n",
       "2017-10-01              5.003733   11.287427    6.753252    7.413152   \n",
       "2017-11-01                   NaN    5.154683    7.339054    6.786583   \n",
       "2017-12-01                   NaN         NaN    4.738191    7.816575   \n",
       "2018-01-01                   NaN         NaN         NaN    4.135636   \n",
       "2018-02-01                   NaN         NaN         NaN         NaN   \n",
       "2018-03-01                   NaN         NaN         NaN         NaN   \n",
       "2018-04-01                   NaN         NaN         NaN         NaN   \n",
       "2018-05-01                   NaN         NaN         NaN         NaN   \n",
       "2018-06-01                   NaN         NaN         NaN         NaN   \n",
       "\n",
       "purchase_month        2018-02-01  2018-03-01  2018-04-01  2018-05-01  \\\n",
       "first_purchase_month                                                   \n",
       "2017-06-01             19.295690   27.233556   25.681333    9.804151   \n",
       "2017-07-01              6.992821    7.382143   12.861818   11.513846   \n",
       "2017-08-01              9.620333   12.610455   21.070000    8.307419   \n",
       "2017-09-01             26.095000   27.437121   16.961351   11.044651   \n",
       "2017-10-01              7.072796    7.255139    6.573214    7.479701   \n",
       "2017-11-01             12.510660    7.457284    4.580833    7.564839   \n",
       "2017-12-01             39.366019   48.135052   27.431400   23.518413   \n",
       "2018-01-01              8.721228   12.365542   11.199767    4.699556   \n",
       "2018-02-01              4.156987    8.610000    4.942414    6.941026   \n",
       "2018-03-01                   NaN    4.838803   11.811667   19.221897   \n",
       "2018-04-01                   NaN         NaN    4.657597   17.535072   \n",
       "2018-05-01                   NaN         NaN         NaN    4.660562   \n",
       "2018-06-01                   NaN         NaN         NaN         NaN   \n",
       "\n",
       "purchase_month        2018-06-01  \n",
       "first_purchase_month              \n",
       "2017-06-01                   NaN  \n",
       "2017-07-01                   NaN  \n",
       "2017-08-01                   NaN  \n",
       "2017-09-01                   NaN  \n",
       "2017-10-01                   NaN  \n",
       "2017-11-01                   NaN  \n",
       "2017-12-01                   NaN  \n",
       "2018-01-01                   NaN  \n",
       "2018-02-01                   NaN  \n",
       "2018-03-01                   NaN  \n",
       "2018-04-01                   NaN  \n",
       "2018-05-01                   NaN  \n",
       "2018-06-01                  3.42  "
      ]
     },
     "execution_count": 181,
     "metadata": {},
     "output_type": "execute_result"
    }
   ],
   "source": [
    "orders_grouped_by_cohorts.pivot_table(\n",
    "    index='first_purchase_month',\n",
    "    columns='purchase_month',\n",
    "    values='revenue_per_user',\n",
    "    aggfunc='mean',\n",
    ")"
   ]
  },
  {
   "cell_type": "markdown",
   "id": "1f508d5f",
   "metadata": {},
   "source": [
    "### Conclusión:\n",
    "El promedio de compras de los cohortes en la tabal de arriba, varia dependiendo de la fecha pero como puntos claves:\n",
    "- El cohorte 2017-09-01 tiene el mayor promedio de compras el mes \"2017-12-01\" con 138.66 dólares.\n",
    "- El cohorte 2018-01-01 es el que tiene el menor promedio de compras justo cuando inicia (debe de ser la famosa cuesta de enero).  "
   ]
  },
  {
   "cell_type": "markdown",
   "id": "a4740158",
   "metadata": {},
   "source": [
    "### 2.4 ¿Cuánto dinero traen?"
   ]
  },
  {
   "cell_type": "markdown",
   "id": "739fc21a",
   "metadata": {},
   "source": [
    "Calculamos el LTV, colocaremos un margen del 50%."
   ]
  },
  {
   "cell_type": "code",
   "execution_count": 187,
   "id": "a6e2da45",
   "metadata": {},
   "outputs": [
    {
     "name": "stdout",
     "output_type": "stream",
     "text": [
      "time_first_purchase   0    1    2    3    4    5    6    7    8    9    ...  \\\n",
      "first_purchase_month                                                    ...   \n",
      "2017-06-01            0.0  0.0  0.0  0.0  0.0  0.0  0.0  0.0  0.0  0.0  ...   \n",
      "2017-07-01            0.0  0.0  0.0  0.0  0.0  0.0  0.0  0.0  0.0  0.0  ...   \n",
      "2017-08-01            0.0  0.0  0.0  0.0  0.0  0.0  0.0  0.0  0.0  0.0  ...   \n",
      "2017-09-01            0.0  0.0  0.0  0.0  0.0  0.0  0.0  0.0  0.0  0.0  ...   \n",
      "2017-10-01            0.0  0.0  0.0  0.0  0.0  0.0  0.0  0.0  0.0  0.0  ...   \n",
      "2017-11-01            0.0  0.0  0.0  0.0  0.0  0.0  0.0  0.0  0.0  0.0  ...   \n",
      "2017-12-01            0.0  0.0  0.0  0.0  0.0  0.0  0.0  0.0  0.0  0.0  ...   \n",
      "2018-01-01            0.0  0.0  0.0  0.0  0.0  0.0  0.0  0.0  0.0  0.0  ...   \n",
      "2018-02-01            0.0  0.0  0.0  0.0  0.0  0.0  0.0  0.0  0.0  0.0  ...   \n",
      "2018-03-01            0.0  0.0  0.0  0.0  0.0  0.0  0.0  0.0  0.0  0.0  ...   \n",
      "2018-04-01            0.0  0.0  0.0  0.0  0.0  0.0  0.0  0.0  0.0  0.0  ...   \n",
      "2018-05-01            0.0  0.0  0.0  0.0  0.0  0.0  0.0  0.0  0.0  0.0  ...   \n",
      "2018-06-01            0.0                                               ...   \n",
      "\n",
      "time_first_purchase   346  347  348  349  352  354  355  357  362  363  \n",
      "first_purchase_month                                                    \n",
      "2017-06-01                                                              \n",
      "2017-07-01                                                              \n",
      "2017-08-01                                                              \n",
      "2017-09-01                                                              \n",
      "2017-10-01                                                              \n",
      "2017-11-01                                                              \n",
      "2017-12-01                                                              \n",
      "2018-01-01                                                              \n",
      "2018-02-01                                                              \n",
      "2018-03-01                                                              \n",
      "2018-04-01                                                              \n",
      "2018-05-01            0.0  0.0  0.0  0.0  0.0  0.0  0.0  0.0  0.0  0.0  \n",
      "2018-06-01                                                              \n",
      "\n",
      "[13 rows x 345 columns]\n"
     ]
    }
   ],
   "source": [
    "margin_rate = 0.5\n",
    "\n",
    "# Calculamos el ingreso bruto\n",
    "visits_orders['gp'] = visits_orders['revenue'] * margin_rate\n",
    "\n",
    "# Edad de cada cohorte\n",
    "visits_orders['time_first_purchase'] = visits_orders['time_first_purchase'].round().astype('int')\n",
    "\n",
    "# Calculamos el LVT\n",
    "visits_orders['ltv'] = visits_orders['gp'] / visits_orders['uid']\n",
    "\n",
    "# Lo mostramos en una tabla dinámica\n",
    "result = visits_orders.pivot_table(\n",
    "    index='first_purchase_month', \n",
    "    columns='time_first_purchase', \n",
    "    values='ltv', \n",
    "    aggfunc='mean').round()\n",
    "\n",
    "result = result.fillna('')\n",
    "print(result)"
   ]
  }
 ],
 "metadata": {
  "kernelspec": {
   "display_name": "base",
   "language": "python",
   "name": "python3"
  },
  "language_info": {
   "codemirror_mode": {
    "name": "ipython",
    "version": 3
   },
   "file_extension": ".py",
   "mimetype": "text/x-python",
   "name": "python",
   "nbconvert_exporter": "python",
   "pygments_lexer": "ipython3",
   "version": "3.13.5"
  }
 },
 "nbformat": 4,
 "nbformat_minor": 5
}
